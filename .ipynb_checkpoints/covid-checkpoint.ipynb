{
 "cells": [
  {
   "cell_type": "code",
   "execution_count": 1,
   "metadata": {},
   "outputs": [],
   "source": [
    "import cv2\n",
    "import os\n",
    "import numpy as np\n",
    "import pandas as pd\n",
    "import matplotlib.pyplot as plt\n",
    "import tensorflow as tf\n",
    "\n",
    "from sklearn.model_selection import train_test_split\n",
    "from tensorflow.keras.preprocessing.image import load_img, img_to_array\n",
    "\n",
    "%matplotlib inline\n",
    "tf.config.set_visible_devices([], 'GPU')"
   ]
  },
  {
   "cell_type": "code",
   "execution_count": 2,
   "metadata": {},
   "outputs": [],
   "source": [
    "def load_images_from_folder(folder):\n",
    "    images = []\n",
    "    for filename in os.listdir(folder, image_size=(150, 150)):\n",
    "        img = cv2.imread(os.path.join(folder,filename), cv2.IMREAD_GRAYSCALE)\n",
    "        if img is not None:\n",
    "            img = cv2.resize(img, image_size)\n",
    "            img_data = np.asarray(img)\n",
    "            images.append(img_data)\n",
    "    return images"
   ]
  },
  {
   "cell_type": "code",
   "execution_count": 3,
   "metadata": {},
   "outputs": [],
   "source": [
    "def load_images_from_folder_2(folder, image_size=(150, 150)):\n",
    "    images = []\n",
    "    for filename in os.listdir(folder):\n",
    "        loaded_img = load_img(os.path.join(folder,filename), target_size=image_size)\n",
    "        numpy_img = img_to_array(loaded_img)\n",
    "        images.append(numpy_img)\n",
    "    return images"
   ]
  },
  {
   "cell_type": "code",
   "execution_count": null,
   "metadata": {},
   "outputs": [],
   "source": [
    "# input_image_dim = (150, 150, 3)\n",
    "# img_size = (150, 150)\n",
    "# covid_folder = 'CT_NonCOVID'\n",
    "# non_covid_folder = 'CT_COVID'\n",
    "\n",
    "input_image_dim = (250, 250, 3)\n",
    "img_size = (250, 250)\n",
    "covid_folder = 'CT_NonCOVID_large'\n",
    "non_covid_folder = 'CT_COVID_large'"
   ]
  },
  {
   "cell_type": "code",
   "execution_count": 4,
   "metadata": {},
   "outputs": [],
   "source": [
    "control_images = load_images_from_folder_2(covid_folder, image_size=img_size)\n",
    "covid_images = load_images_from_folder_2(non_covid_folder, image_size=img_size)\n",
    "all_images = control_images + covid_images\n",
    "all_images = np.array(all_images)\n",
    "# all_images = all_images.reshape((-1, 150, 150, 3))"
   ]
  },
  {
   "cell_type": "code",
   "execution_count": 5,
   "metadata": {},
   "outputs": [
    {
     "data": {
      "text/plain": [
       "(591, 250, 250, 3)"
      ]
     },
     "execution_count": 5,
     "metadata": {},
     "output_type": "execute_result"
    }
   ],
   "source": [
    "\n",
    "all_images.shape"
   ]
  },
  {
   "cell_type": "code",
   "execution_count": 6,
   "metadata": {},
   "outputs": [],
   "source": [
    "# for i in range(4):\n",
    "#     plt.subplot(2, 2, i + 1)\n",
    "#     plt.imshow(np.uint8(all_images[i]))\n",
    "# plt.show"
   ]
  },
  {
   "cell_type": "code",
   "execution_count": 7,
   "metadata": {},
   "outputs": [
    {
     "name": "stdout",
     "output_type": "stream",
     "text": [
      "591\n",
      "591\n"
     ]
    }
   ],
   "source": [
    "control_labels = [0] * len(control_images)\n",
    "covid_labels = [1] * len(covid_images)\n",
    "label_series = pd.Series(control_labels + covid_labels)\n",
    "print(len(all_images))\n",
    "print(len(label_series))"
   ]
  },
  {
   "cell_type": "code",
   "execution_count": 8,
   "metadata": {},
   "outputs": [],
   "source": [
    "X_train, X_test, y_train, y_test = train_test_split(all_images, label_series, test_size=0.25, random_state=42)"
   ]
  },
  {
   "cell_type": "code",
   "execution_count": 9,
   "metadata": {},
   "outputs": [
    {
     "name": "stdout",
     "output_type": "stream",
     "text": [
      "443\n",
      "443\n"
     ]
    }
   ],
   "source": [
    "print(len(X_train))\n",
    "print(len(y_train))"
   ]
  },
  {
   "cell_type": "code",
   "execution_count": 10,
   "metadata": {},
   "outputs": [],
   "source": [
    "adam = tf.keras.optimizers.Adam(learning_rate=0.0001)\n",
    "\n",
    "inp = tf.keras.layers.Input(shape=input_image_dim)\n",
    "x = tf.keras.layers.Conv2D(filters=32, kernel_size=(3, 3), activation='relu')(inp)\n",
    "x = tf.keras.layers.MaxPool2D(pool_size=(2, 2))(x)\n",
    "x = tf.keras.layers.Conv2D(filters=64, kernel_size=(3, 3), activation='relu')(x)\n",
    "x = tf.keras.layers.MaxPool2D(pool_size=(2, 2))(x)\n",
    "x = tf.keras.layers.Conv2D(filters=128, kernel_size=(3, 3), activation='relu')(x)\n",
    "x = tf.keras.layers.MaxPool2D(pool_size=(2, 2))(x)\n",
    "\n",
    "x = tf.keras.layers.Flatten()(x)\n",
    "x = tf.keras.layers.Dense(1024, activation='relu')(x)\n",
    "x = tf.keras.layers.Dropout(0.3)(x)\n",
    "x = tf.keras.layers.Dense(512, activation='relu')(x)\n",
    "x = tf.keras.layers.Dropout(0.3)(x)\n",
    "y = tf.keras.layers.Dense(1, activation='sigmoid')(x)\n",
    "\n",
    "model = tf.keras.Model(inp, y)\n",
    "model.compile(loss='binary_crossentropy', optimizer=adam, metrics=['accuracy'])"
   ]
  },
  {
   "cell_type": "code",
   "execution_count": 11,
   "metadata": {},
   "outputs": [
    {
     "name": "stdout",
     "output_type": "stream",
     "text": [
      "Train on 443 samples\n",
      "Epoch 1/8\n",
      "443/443 [==============================] - 11s 25ms/sample - loss: 123.5719 - accuracy: 0.4515\n",
      "Epoch 2/8\n",
      "443/443 [==============================] - 10s 24ms/sample - loss: 47.8236 - accuracy: 0.5102\n",
      "Epoch 3/8\n",
      "443/443 [==============================] - 11s 24ms/sample - loss: 21.6901 - accuracy: 0.5508\n",
      "Epoch 4/8\n",
      "443/443 [==============================] - 11s 24ms/sample - loss: 16.6020 - accuracy: 0.4989\n",
      "Epoch 5/8\n",
      "443/443 [==============================] - 10s 24ms/sample - loss: 6.9233 - accuracy: 0.5937\n",
      "Epoch 6/8\n",
      "443/443 [==============================] - 10s 24ms/sample - loss: 3.8411 - accuracy: 0.6185\n",
      "Epoch 7/8\n",
      "443/443 [==============================] - 10s 23ms/sample - loss: 1.8126 - accuracy: 0.6704\n",
      "Epoch 8/8\n",
      "443/443 [==============================] - 11s 24ms/sample - loss: 0.8522 - accuracy: 0.7720\n",
      "Simple network 1 - accuracy: 0.7364865\n",
      "Simple network 1 - recall: 0.78571427\n",
      "Simple network 1 - precision: 0.6197183\n",
      "Simple network 1 - F1 score: 0.6929133781461884\n"
     ]
    }
   ],
   "source": [
    "model.fit(X_train, y_train, batch_size=64, epochs=8, use_multiprocessing=1)\n",
    "ba = tf.keras.metrics.BinaryAccuracy()\n",
    "recall = tf.keras.metrics.Recall()\n",
    "precision = tf.keras.metrics.Precision()\n",
    "ba.update_state(y_test, model.predict(X_test))\n",
    "recall.update_state(y_test, [prediction[0] for prediction in model.predict(X_test)])\n",
    "precision.update_state(y_test, [prediction[0] for prediction in model.predict(X_test)])\n",
    "recall_result = recall.result().numpy()\n",
    "precision_result = precision.result().numpy()\n",
    "\n",
    "network_type = 'Simple network 1'\n",
    "print(network_type, '-', 'accuracy:', ba.result().numpy())\n",
    "print(network_type, '-', 'recall:', recall_result)\n",
    "print(network_type, '-', 'precision:', precision_result)\n",
    "print(network_type, '-', 'F1 score:', 2 * (precision_result * recall_result) / (precision_result + recall_result))"
   ]
  },
  {
   "cell_type": "code",
   "execution_count": 12,
   "metadata": {},
   "outputs": [],
   "source": [
    "adam = tf.keras.optimizers.Adam(learning_rate=0.0001)\n",
    "\n",
    "inp = tf.keras.layers.Input(shape=input_image_dim)\n",
    "x = tf.keras.layers.Conv2D(filters=32, kernel_size=(3, 3), activation='relu')(inp)\n",
    "x = tf.keras.layers.Conv2D(filters=32, kernel_size=(3, 3), activation='relu')(x)\n",
    "x = tf.keras.layers.Conv2D(filters=32, kernel_size=(3, 3), activation='relu')(x)\n",
    "x = tf.keras.layers.Conv2D(filters=32, kernel_size=(3, 3), activation='relu')(x)\n",
    "x = tf.keras.layers.MaxPool2D(pool_size=(2, 2))(x)\n",
    "\n",
    "x = tf.keras.layers.Conv2D(filters=64, kernel_size=(3, 3), activation='relu')(x)\n",
    "x = tf.keras.layers.Conv2D(filters=64, kernel_size=(3, 3), activation='relu')(x)\n",
    "x = tf.keras.layers.MaxPool2D(pool_size=(2, 2))(x)\n",
    "\n",
    "x = tf.keras.layers.Conv2D(filters=128, kernel_size=(3, 3), activation='relu')(x)\n",
    "x = tf.keras.layers.MaxPool2D(pool_size=(2, 2))(x)\n",
    "\n",
    "x = tf.keras.layers.Flatten()(x)\n",
    "x = tf.keras.layers.Dense(1024, activation='relu')(x)\n",
    "x = tf.keras.layers.Dropout(0.3)(x)\n",
    "x = tf.keras.layers.Dense(512, activation='relu')(x)\n",
    "x = tf.keras.layers.Dropout(0.3)(x)\n",
    "y = tf.keras.layers.Dense(1, activation='sigmoid')(x)\n",
    "\n",
    "model = tf.keras.Model(inp, y)\n",
    "model.compile(loss='binary_crossentropy', optimizer=adam, metrics=['accuracy'])"
   ]
  },
  {
   "cell_type": "code",
   "execution_count": 13,
   "metadata": {},
   "outputs": [
    {
     "name": "stdout",
     "output_type": "stream",
     "text": [
      "Train on 443 samples\n",
      "Epoch 1/8\n",
      "443/443 [==============================] - 41s 92ms/sample - loss: 18.0951 - accuracy: 0.5102\n",
      "Epoch 2/8\n",
      "443/443 [==============================] - 41s 91ms/sample - loss: 5.2803 - accuracy: 0.4898\n",
      "Epoch 3/8\n",
      "443/443 [==============================] - 42s 94ms/sample - loss: 1.8175 - accuracy: 0.5395\n",
      "Epoch 4/8\n",
      "443/443 [==============================] - 43s 98ms/sample - loss: 0.9708 - accuracy: 0.5395\n",
      "Epoch 5/8\n",
      "443/443 [==============================] - 42s 96ms/sample - loss: 0.7148 - accuracy: 0.5756\n",
      "Epoch 6/8\n",
      "443/443 [==============================] - 42s 95ms/sample - loss: 0.6026 - accuracy: 0.6614\n",
      "Epoch 7/8\n",
      "443/443 [==============================] - 44s 99ms/sample - loss: 0.5265 - accuracy: 0.7269\n",
      "Epoch 8/8\n",
      "443/443 [==============================] - 43s 97ms/sample - loss: 0.4509 - accuracy: 0.7991\n",
      "Simple network 2 - accuracy: 0.7027027\n",
      "Simple network 2 - recall: 0.51785713\n",
      "Simple network 2 - precision: 0.6304348\n",
      "Simple network 2 - F1 score: 0.568627472353954\n"
     ]
    }
   ],
   "source": [
    "model.fit(X_train, y_train, batch_size=64, epochs=8, use_multiprocessing=1)\n",
    "ba = tf.keras.metrics.BinaryAccuracy()\n",
    "recall = tf.keras.metrics.Recall()\n",
    "precision = tf.keras.metrics.Precision()\n",
    "ba.update_state(y_test, model.predict(X_test))\n",
    "recall.update_state(y_test, [prediction[0] for prediction in model.predict(X_test)])\n",
    "precision.update_state(y_test, [prediction[0] for prediction in model.predict(X_test)])\n",
    "recall_result = recall.result().numpy()\n",
    "precision_result = precision.result().numpy()\n",
    "\n",
    "network_type = 'Simple network 2'\n",
    "print(network_type, '-', 'accuracy:', ba.result().numpy())\n",
    "print(network_type, '-', 'recall:', recall_result)\n",
    "print(network_type, '-', 'precision:', precision_result)\n",
    "print(network_type, '-', 'F1 score:', 2 * (precision_result * recall_result) / (precision_result + recall_result))"
   ]
  },
  {
   "cell_type": "code",
   "execution_count": 14,
   "metadata": {},
   "outputs": [
    {
     "name": "stderr",
     "output_type": "stream",
     "text": [
      "C:\\Users\\bruce\\miniconda3\\envs\\capstone\\lib\\site-packages\\keras_applications\\mobilenet_v2.py:294: UserWarning: `input_shape` is undefined or non-square, or `rows` is not in [96, 128, 160, 192, 224]. Weights for input shape (224, 224) will be loaded as the default.\n",
      "  warnings.warn('`input_shape` is undefined or non-square, '\n"
     ]
    }
   ],
   "source": [
    "adam = tf.keras.optimizers.Adam(learning_rate=0.00001)\n",
    "\n",
    "base_model = tf.keras.applications.MobileNetV2(input_shape=input_image_dim, include_top=False, weights='imagenet')\n",
    "base_model.trainable = False\n",
    "\n",
    "global_average_layer = tf.keras.layers.GlobalAveragePooling2D()\n",
    "dense_layer = tf.keras.layers.Dense(500, activation='relu')\n",
    "dropout_layer = tf.keras.layers.Dropout(0.3)\n",
    "prediction_layer = tf.keras.layers.Dense(1, activation='sigmoid')\n",
    "model = tf.keras.Sequential([\n",
    "    base_model,\n",
    "    global_average_layer,\n",
    "    dense_layer,\n",
    "    dropout_layer,\n",
    "    prediction_layer\n",
    "])\n",
    "model.compile(optimizer=adam, loss='binary_crossentropy', metrics=['accuracy'])"
   ]
  },
  {
   "cell_type": "code",
   "execution_count": 15,
   "metadata": {},
   "outputs": [
    {
     "name": "stdout",
     "output_type": "stream",
     "text": [
      "Train on 443 samples\n",
      "Epoch 1/30\n",
      "443/443 [==============================] - 27s 60ms/sample - loss: 0.6987 - accuracy: 0.5440\n",
      "Epoch 2/30\n",
      "443/443 [==============================] - 25s 57ms/sample - loss: 0.6873 - accuracy: 0.5643\n",
      "Epoch 3/30\n",
      "443/443 [==============================] - 25s 57ms/sample - loss: 0.6846 - accuracy: 0.5621\n",
      "Epoch 4/30\n",
      "443/443 [==============================] - 25s 57ms/sample - loss: 0.6895 - accuracy: 0.5079\n",
      "Epoch 5/30\n",
      "443/443 [==============================] - 25s 57ms/sample - loss: 0.6869 - accuracy: 0.5395\n",
      "Epoch 6/30\n",
      "443/443 [==============================] - 25s 57ms/sample - loss: 0.6766 - accuracy: 0.5734\n",
      "Epoch 7/30\n",
      "443/443 [==============================] - 25s 57ms/sample - loss: 0.6834 - accuracy: 0.5485\n",
      "Epoch 8/30\n",
      "443/443 [==============================] - 25s 58ms/sample - loss: 0.6782 - accuracy: 0.5598\n",
      "Epoch 9/30\n",
      "443/443 [==============================] - 26s 58ms/sample - loss: 0.6705 - accuracy: 0.5734\n",
      "Epoch 10/30\n",
      "443/443 [==============================] - 26s 60ms/sample - loss: 0.6771 - accuracy: 0.5847\n",
      "Epoch 11/30\n",
      "443/443 [==============================] - 26s 59ms/sample - loss: 0.6805 - accuracy: 0.5756\n",
      "Epoch 12/30\n",
      "443/443 [==============================] - 26s 59ms/sample - loss: 0.6772 - accuracy: 0.5756\n",
      "Epoch 13/30\n",
      "443/443 [==============================] - 27s 61ms/sample - loss: 0.6714 - accuracy: 0.5734\n",
      "Epoch 14/30\n",
      "443/443 [==============================] - 27s 61ms/sample - loss: 0.6706 - accuracy: 0.5756\n",
      "Epoch 15/30\n",
      "443/443 [==============================] - 26s 60ms/sample - loss: 0.6661 - accuracy: 0.5847\n",
      "Epoch 16/30\n",
      "443/443 [==============================] - 26s 58ms/sample - loss: 0.6720 - accuracy: 0.5553\n",
      "Epoch 17/30\n",
      "443/443 [==============================] - 26s 58ms/sample - loss: 0.6688 - accuracy: 0.5959\n",
      "Epoch 18/30\n",
      "443/443 [==============================] - 25s 58ms/sample - loss: 0.6593 - accuracy: 0.5959\n",
      "Epoch 19/30\n",
      "443/443 [==============================] - 25s 57ms/sample - loss: 0.6604 - accuracy: 0.5959\n",
      "Epoch 20/30\n",
      "443/443 [==============================] - 25s 57ms/sample - loss: 0.6566 - accuracy: 0.5937\n",
      "Epoch 21/30\n",
      "443/443 [==============================] - 26s 58ms/sample - loss: 0.6517 - accuracy: 0.6479\n",
      "Epoch 22/30\n",
      "443/443 [==============================] - 25s 57ms/sample - loss: 0.6634 - accuracy: 0.5869\n",
      "Epoch 23/30\n",
      "443/443 [==============================] - 25s 57ms/sample - loss: 0.6423 - accuracy: 0.6366\n",
      "Epoch 24/30\n",
      "443/443 [==============================] - 26s 58ms/sample - loss: 0.6431 - accuracy: 0.6501\n",
      "Epoch 25/30\n",
      "443/443 [==============================] - 27s 60ms/sample - loss: 0.6470 - accuracy: 0.6388\n",
      "Epoch 26/30\n",
      "443/443 [==============================] - 26s 58ms/sample - loss: 0.6442 - accuracy: 0.6388\n",
      "Epoch 27/30\n",
      "443/443 [==============================] - 26s 58ms/sample - loss: 0.6492 - accuracy: 0.6343\n",
      "Epoch 28/30\n",
      "443/443 [==============================] - 26s 60ms/sample - loss: 0.6425 - accuracy: 0.6591\n",
      "Epoch 29/30\n",
      "443/443 [==============================] - 26s 59ms/sample - loss: 0.6402 - accuracy: 0.6546\n",
      "Epoch 30/30\n",
      "443/443 [==============================] - 26s 58ms/sample - loss: 0.6450 - accuracy: 0.6795\n",
      "Mobile Net V2 - accuracy: 0.6081081\n",
      "Mobile Net V2 - recall: 0.0\n",
      "Mobile Net V2 - precision: 0.0\n",
      "Mobile Net V2 - F1 score: nan\n"
     ]
    },
    {
     "name": "stderr",
     "output_type": "stream",
     "text": [
      "C:\\Users\\bruce\\miniconda3\\envs\\capstone\\lib\\site-packages\\ipykernel_launcher.py:15: RuntimeWarning: invalid value encountered in double_scalars\n",
      "  from ipykernel import kernelapp as app\n"
     ]
    }
   ],
   "source": [
    "model.fit(X_train, y_train, batch_size=1, epochs=30, use_multiprocessing=1)\n",
    "ba = tf.keras.metrics.BinaryAccuracy()\n",
    "recall = tf.keras.metrics.Recall()\n",
    "precision = tf.keras.metrics.Precision()\n",
    "ba.update_state(y_test, model.predict(X_test))\n",
    "recall.update_state(y_test, [prediction[0] for prediction in model.predict(X_test)])\n",
    "precision.update_state(y_test, [prediction[0] for prediction in model.predict(X_test)])\n",
    "recall_result = recall.result().numpy()\n",
    "precision_result = precision.result().numpy()\n",
    "\n",
    "network_type = 'Mobile Net V2'\n",
    "print(network_type, '-', 'accuracy:', ba.result().numpy())\n",
    "print(network_type, '-', 'recall:', recall_result)\n",
    "print(network_type, '-', 'precision:', precision_result)\n",
    "print(network_type, '-', 'F1 score:', 2 * (precision_result * recall_result) / (precision_result + recall_result))"
   ]
  },
  {
   "cell_type": "code",
   "execution_count": 16,
   "metadata": {},
   "outputs": [],
   "source": [
    "adam = tf.keras.optimizers.Adam(learning_rate=0.00001)\n",
    "\n",
    "base_model = tf.keras.applications.ResNet50V2(input_shape=input_image_dim, include_top=False, weights='imagenet')\n",
    "base_model.trainable = False\n",
    "\n",
    "global_average_layer = tf.keras.layers.GlobalAveragePooling2D()\n",
    "dense_layer = tf.keras.layers.Dense(500, activation='relu')\n",
    "prediction_layer = tf.keras.layers.Dense(1, activation='sigmoid')\n",
    "model = tf.keras.Sequential([\n",
    "    base_model,\n",
    "    global_average_layer,\n",
    "    dense_layer,\n",
    "    prediction_layer\n",
    "])\n",
    "model.compile(optimizer=adam, loss='binary_crossentropy', metrics=['accuracy'])"
   ]
  },
  {
   "cell_type": "code",
   "execution_count": 17,
   "metadata": {},
   "outputs": [
    {
     "name": "stdout",
     "output_type": "stream",
     "text": [
      "Train on 443 samples\n",
      "Epoch 1/10\n",
      "443/443 [==============================] - 48s 109ms/sample - loss: 0.7200 - accuracy: 0.5102\n",
      "Epoch 2/10\n",
      "443/443 [==============================] - 45s 101ms/sample - loss: 0.6857 - accuracy: 0.5666\n",
      "Epoch 3/10\n",
      "443/443 [==============================] - 44s 98ms/sample - loss: 0.6618 - accuracy: 0.6298\n",
      "Epoch 4/10\n",
      "443/443 [==============================] - 48s 109ms/sample - loss: 0.6390 - accuracy: 0.6546\n",
      "Epoch 5/10\n",
      "443/443 [==============================] - 49s 110ms/sample - loss: 0.6218 - accuracy: 0.6862\n",
      "Epoch 6/10\n",
      "443/443 [==============================] - 51s 115ms/sample - loss: 0.6034 - accuracy: 0.7246\n",
      "Epoch 7/10\n",
      "443/443 [==============================] - 49s 111ms/sample - loss: 0.5828 - accuracy: 0.7472\n",
      "Epoch 8/10\n",
      "443/443 [==============================] - 52s 117ms/sample - loss: 0.5772 - accuracy: 0.7585\n",
      "Epoch 9/10\n",
      "443/443 [==============================] - 48s 108ms/sample - loss: 0.5593 - accuracy: 0.7698\n",
      "Epoch 10/10\n",
      "443/443 [==============================] - 47s 106ms/sample - loss: 0.5476 - accuracy: 0.7833\n",
      "ResNet50 V2 - accuracy: 0.6081081\n",
      "ResNet50 V2 - recall: 0.017857144\n",
      "ResNet50 V2 - precision: 0.25\n",
      "ResNet50 V2 - F1 score: 0.033333335883087664\n"
     ]
    }
   ],
   "source": [
    "model.fit(X_train, y_train, batch_size=32, epochs=10, use_multiprocessing=1)\n",
    "ba = tf.keras.metrics.BinaryAccuracy()\n",
    "recall = tf.keras.metrics.Recall()\n",
    "precision = tf.keras.metrics.Precision()\n",
    "ba.update_state(y_test, model.predict(X_test))\n",
    "recall.update_state(y_test, [prediction[0] for prediction in model.predict(X_test)])\n",
    "precision.update_state(y_test, [prediction[0] for prediction in model.predict(X_test)])\n",
    "recall_result = recall.result().numpy()\n",
    "precision_result = precision.result().numpy()\n",
    "\n",
    "network_type = 'ResNet50 V2'\n",
    "print(network_type, '-', 'accuracy:', ba.result().numpy())\n",
    "print(network_type, '-', 'recall:', recall_result)\n",
    "print(network_type, '-', 'precision:', precision_result)\n",
    "print(network_type, '-', 'F1 score:', 2 * (precision_result * recall_result) / (precision_result + recall_result))"
   ]
  },
  {
   "cell_type": "code",
   "execution_count": 18,
   "metadata": {},
   "outputs": [],
   "source": [
    "adam = tf.keras.optimizers.Adam(learning_rate=0.00002)\n",
    "\n",
    "base_model = tf.keras.applications.VGG16(input_shape=input_image_dim, include_top=False, weights='imagenet')\n",
    "base_model.trainable = False\n",
    "\n",
    "global_average_layer = tf.keras.layers.GlobalAveragePooling2D()\n",
    "dense_layer = tf.keras.layers.Dense(500, activation='relu')\n",
    "dropout_layer = tf.keras.layers.Dropout(0.3)\n",
    "prediction_layer = tf.keras.layers.Dense(1, activation='sigmoid')\n",
    "model = tf.keras.Sequential([\n",
    "    base_model,\n",
    "    global_average_layer,\n",
    "    dropout_layer,\n",
    "    dense_layer,\n",
    "    prediction_layer\n",
    "])\n",
    "model.compile(optimizer=adam, loss='binary_crossentropy', metrics=['accuracy'])"
   ]
  },
  {
   "cell_type": "code",
   "execution_count": 19,
   "metadata": {},
   "outputs": [
    {
     "name": "stdout",
     "output_type": "stream",
     "text": [
      "Train on 443 samples\n",
      "Epoch 1/20\n",
      "443/443 [==============================] - 40s 90ms/sample - loss: 1.4528 - accuracy: 0.6005\n",
      "Epoch 2/20\n",
      "443/443 [==============================] - 39s 89ms/sample - loss: 1.1653 - accuracy: 0.6569\n",
      "Epoch 3/20\n",
      "443/443 [==============================] - 39s 89ms/sample - loss: 1.0800 - accuracy: 0.6749\n",
      "Epoch 4/20\n",
      "443/443 [==============================] - 39s 89ms/sample - loss: 0.8838 - accuracy: 0.6772\n",
      "Epoch 5/20\n",
      "443/443 [==============================] - 39s 89ms/sample - loss: 0.8101 - accuracy: 0.7020\n",
      "Epoch 6/20\n",
      "443/443 [==============================] - 40s 89ms/sample - loss: 0.7303 - accuracy: 0.7336\n",
      "Epoch 7/20\n",
      "443/443 [==============================] - 40s 91ms/sample - loss: 0.6633 - accuracy: 0.7381\n",
      "Epoch 8/20\n",
      "443/443 [==============================] - 41s 92ms/sample - loss: 0.6862 - accuracy: 0.7291\n",
      "Epoch 9/20\n",
      "443/443 [==============================] - 41s 93ms/sample - loss: 0.5726 - accuracy: 0.7585\n",
      "Epoch 10/20\n",
      "443/443 [==============================] - 40s 91ms/sample - loss: 0.5359 - accuracy: 0.7743\n",
      "Epoch 11/20\n",
      "443/443 [==============================] - 39s 89ms/sample - loss: 0.5339 - accuracy: 0.7698 - loss: 0.5384 - accuracy\n",
      "Epoch 12/20\n",
      "443/443 [==============================] - 40s 90ms/sample - loss: 0.4993 - accuracy: 0.7923 - loss: 0.5021 \n",
      "Epoch 13/20\n",
      "443/443 [==============================] - 40s 91ms/sample - loss: 0.4776 - accuracy: 0.7901\n",
      "Epoch 14/20\n",
      "443/443 [==============================] - 40s 90ms/sample - loss: 0.4390 - accuracy: 0.8194\n",
      "Epoch 15/20\n",
      "443/443 [==============================] - 39s 88ms/sample - loss: 0.4200 - accuracy: 0.8330\n",
      "Epoch 16/20\n",
      "443/443 [==============================] - 40s 90ms/sample - loss: 0.4189 - accuracy: 0.8330\n",
      "Epoch 17/20\n",
      "443/443 [==============================] - 41s 93ms/sample - loss: 0.3645 - accuracy: 0.8442\n",
      "Epoch 18/20\n",
      "443/443 [==============================] - 41s 92ms/sample - loss: 0.4020 - accuracy: 0.8217\n",
      "Epoch 19/20\n",
      "443/443 [==============================] - 41s 93ms/sample - loss: 0.3795 - accuracy: 0.8262\n",
      "Epoch 20/20\n",
      "443/443 [==============================] - 41s 93ms/sample - loss: 0.3349 - accuracy: 0.8420\n",
      "VGG16 - accuracy: 0.8310811\n",
      "VGG16 - recall: 0.75\n",
      "VGG16 - precision: 0.7924528\n",
      "VGG16 - F1 score: 0.7706421933263632\n"
     ]
    }
   ],
   "source": [
    "model.fit(X_train, y_train, batch_size=1, epochs=20, use_multiprocessing=1)\n",
    "ba = tf.keras.metrics.BinaryAccuracy()\n",
    "recall = tf.keras.metrics.Recall()\n",
    "precision = tf.keras.metrics.Precision()\n",
    "ba.update_state(y_test, model.predict(X_test))\n",
    "recall.update_state(y_test, [prediction[0] for prediction in model.predict(X_test)])\n",
    "precision.update_state(y_test, [prediction[0] for prediction in model.predict(X_test)])\n",
    "recall_result = recall.result().numpy()\n",
    "precision_result = precision.result().numpy()\n",
    "\n",
    "network_type = 'VGG16'\n",
    "print(network_type, '-', 'accuracy:', ba.result().numpy())\n",
    "print(network_type, '-', 'recall:', recall_result)\n",
    "print(network_type, '-', 'precision:', precision_result)\n",
    "print(network_type, '-', 'F1 score:', 2 * (precision_result * recall_result) / (precision_result + recall_result))"
   ]
  },
  {
   "cell_type": "code",
   "execution_count": 20,
   "metadata": {},
   "outputs": [],
   "source": [
    "adam = tf.keras.optimizers.Adam(learning_rate=0.00002)\n",
    "\n",
    "base_model = tf.keras.applications.VGG19(input_shape=input_image_dim, include_top=False, weights='imagenet')\n",
    "base_model.trainable = False\n",
    "\n",
    "global_average_layer = tf.keras.layers.GlobalAveragePooling2D()\n",
    "dense_layer = tf.keras.layers.Dense(500, activation='relu')\n",
    "dropout_layer = tf.keras.layers.Dropout(0.3)\n",
    "prediction_layer = tf.keras.layers.Dense(1, activation='sigmoid')\n",
    "model = tf.keras.Sequential([\n",
    "    base_model,\n",
    "    global_average_layer,\n",
    "    dense_layer,\n",
    "    dropout_layer,\n",
    "    prediction_layer\n",
    "])\n",
    "model.compile(optimizer=adam, loss='binary_crossentropy', metrics=['accuracy'])"
   ]
  },
  {
   "cell_type": "code",
   "execution_count": 21,
   "metadata": {},
   "outputs": [
    {
     "name": "stdout",
     "output_type": "stream",
     "text": [
      "Train on 443 samples\n",
      "Epoch 1/20\n",
      "443/443 [==============================] - 51s 114ms/sample - loss: 1.3860 - accuracy: 0.5666\n",
      "Epoch 2/20\n",
      "443/443 [==============================] - 50s 114ms/sample - loss: 1.2976 - accuracy: 0.5959\n",
      "Epoch 3/20\n",
      "443/443 [==============================] - 51s 114ms/sample - loss: 0.8486 - accuracy: 0.6862\n",
      "Epoch 4/20\n",
      "443/443 [==============================] - 51s 116ms/sample - loss: 0.9262 - accuracy: 0.6907\n",
      "Epoch 5/20\n",
      "443/443 [==============================] - 53s 119ms/sample - loss: 0.7797 - accuracy: 0.7223\n",
      "Epoch 6/20\n",
      "443/443 [==============================] - 52s 118ms/sample - loss: 0.6520 - accuracy: 0.7743\n",
      "Epoch 7/20\n",
      "443/443 [==============================] - 53s 119ms/sample - loss: 0.6115 - accuracy: 0.7652\n",
      "Epoch 8/20\n",
      "443/443 [==============================] - 52s 116ms/sample - loss: 0.5250 - accuracy: 0.7878\n",
      "Epoch 9/20\n",
      "443/443 [==============================] - 52s 118ms/sample - loss: 0.5392 - accuracy: 0.7968\n",
      "Epoch 10/20\n",
      "443/443 [==============================] - 53s 119ms/sample - loss: 0.4682 - accuracy: 0.8217\n",
      "Epoch 11/20\n",
      "443/443 [==============================] - 52s 117ms/sample - loss: 0.4302 - accuracy: 0.8420\n",
      "Epoch 12/20\n",
      "443/443 [==============================] - 51s 116ms/sample - loss: 0.4039 - accuracy: 0.8194\n",
      "Epoch 13/20\n",
      "443/443 [==============================] - 52s 116ms/sample - loss: 0.3613 - accuracy: 0.8555\n",
      "Epoch 14/20\n",
      "443/443 [==============================] - 53s 120ms/sample - loss: 0.3331 - accuracy: 0.8623\n",
      "Epoch 15/20\n",
      "443/443 [==============================] - 52s 118ms/sample - loss: 0.3164 - accuracy: 0.8533\n",
      "Epoch 16/20\n",
      "443/443 [==============================] - 52s 118ms/sample - loss: 0.2757 - accuracy: 0.8894\n",
      "Epoch 17/20\n",
      "443/443 [==============================] - 53s 120ms/sample - loss: 0.2327 - accuracy: 0.8849\n",
      "Epoch 18/20\n",
      "443/443 [==============================] - 52s 118ms/sample - loss: 0.2293 - accuracy: 0.9052\n",
      "Epoch 19/20\n",
      "443/443 [==============================] - 53s 119ms/sample - loss: 0.2160 - accuracy: 0.9233\n",
      "Epoch 20/20\n",
      "443/443 [==============================] - 54s 121ms/sample - loss: 0.1866 - accuracy: 0.9187\n",
      "VGG19 - accuracy: 0.8243243\n",
      "VGG19 - recall: 0.76785713\n",
      "VGG19 - precision: 0.76785713\n",
      "VGG19 - F1 score: 0.7678571054309702\n"
     ]
    }
   ],
   "source": [
    "model.fit(X_train, y_train, batch_size=1, epochs=20, use_multiprocessing=1)\n",
    "ba = tf.keras.metrics.BinaryAccuracy()\n",
    "recall = tf.keras.metrics.Recall()\n",
    "precision = tf.keras.metrics.Precision()\n",
    "ba.update_state(y_test, model.predict(X_test))\n",
    "recall.update_state(y_test, [prediction[0] for prediction in model.predict(X_test)])\n",
    "precision.update_state(y_test, [prediction[0] for prediction in model.predict(X_test)])\n",
    "recall_result = recall.result().numpy()\n",
    "precision_result = precision.result().numpy()\n",
    "\n",
    "network_type = 'VGG19'\n",
    "print(network_type, '-', 'accuracy:', ba.result().numpy())\n",
    "print(network_type, '-', 'recall:', recall_result)\n",
    "print(network_type, '-', 'precision:', precision_result)\n",
    "print(network_type, '-', 'F1 score:', 2 * (precision_result * recall_result) / (precision_result + recall_result))"
   ]
  },
  {
   "cell_type": "raw",
   "metadata": {},
   "source": [
    "use only higher res images, fiddle with epochs and LR, dropout layer?, look for med image specific networks?"
   ]
  }
 ],
 "metadata": {
  "kernelspec": {
   "display_name": "Python 3.6.10 64-bit ('capstone': conda)",
   "language": "python",
   "name": "python361064bitcapstonecondaccd97f80eb1d4d9b9a9bc41a0404f1e3"
  },
  "language_info": {
   "codemirror_mode": {
    "name": "ipython",
    "version": 3
   },
   "file_extension": ".py",
   "mimetype": "text/x-python",
   "name": "python",
   "nbconvert_exporter": "python",
   "pygments_lexer": "ipython3",
   "version": "3.6.10"
  }
 },
 "nbformat": 4,
 "nbformat_minor": 4
}

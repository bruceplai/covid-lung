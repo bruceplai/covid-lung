{
 "cells": [
  {
   "cell_type": "code",
   "execution_count": 1,
   "metadata": {},
   "outputs": [],
   "source": [
    "import cv2\n",
    "import os\n",
    "import numpy as np\n",
    "import pandas as pd\n",
    "import matplotlib.pyplot as plt\n",
    "import tensorflow as tf\n",
    "\n",
    "from sklearn.model_selection import train_test_split\n",
    "from tensorflow.keras.preprocessing.image import load_img, img_to_array\n",
    "\n",
    "%matplotlib inline\n",
    "tf.config.set_visible_devices([], 'GPU')"
   ]
  },
  {
   "cell_type": "code",
   "execution_count": 2,
   "metadata": {},
   "outputs": [],
   "source": [
    "def load_images_from_folder(folder):\n",
    "    images = []\n",
    "    for filename in os.listdir(folder, image_size=(150, 150)):\n",
    "        img = cv2.imread(os.path.join(folder,filename), cv2.IMREAD_GRAYSCALE)\n",
    "        if img is not None:\n",
    "            img = cv2.resize(img, image_size)\n",
    "            img_data = np.asarray(img)\n",
    "            images.append(img_data)\n",
    "    return images"
   ]
  },
  {
   "cell_type": "code",
   "execution_count": 3,
   "metadata": {},
   "outputs": [],
   "source": [
    "def load_images_from_folder_2(folder, image_size=(150, 150)):\n",
    "    images = []\n",
    "    for filename in os.listdir(folder):\n",
    "        loaded_img = load_img(os.path.join(folder,filename), target_size=image_size)\n",
    "        numpy_img = img_to_array(loaded_img)\n",
    "        images.append(numpy_img)\n",
    "    return images"
   ]
  },
  {
   "cell_type": "code",
   "execution_count": 4,
   "metadata": {},
   "outputs": [],
   "source": [
    "# input_image_dim = (150, 150, 3)\n",
    "# img_size = (150, 150)\n",
    "# covid_folder = 'CT_NonCOVID'\n",
    "# non_covid_folder = 'CT_COVID'\n",
    "\n",
    "input_image_dim = (250, 250, 3)\n",
    "img_size = (250, 250)\n",
    "covid_folder = 'XRAY_PNEUMONIA'\n",
    "non_covid_folder = 'XRAY_NORMAL'"
   ]
  },
  {
   "cell_type": "code",
   "execution_count": 5,
   "metadata": {},
   "outputs": [],
   "source": [
    "control_images = load_images_from_folder_2(covid_folder, image_size=img_size)\n",
    "covid_images = load_images_from_folder_2(non_covid_folder, image_size=img_size)\n",
    "all_images = control_images + covid_images\n",
    "all_images = np.array(all_images)\n",
    "# all_images = all_images.reshape((-1, 150, 150, 3))"
   ]
  },
  {
   "cell_type": "code",
   "execution_count": 6,
   "metadata": {},
   "outputs": [
    {
     "data": {
      "text/plain": [
       "(5856, 250, 250, 3)"
      ]
     },
     "execution_count": 6,
     "metadata": {},
     "output_type": "execute_result"
    }
   ],
   "source": [
    "\n",
    "all_images.shape"
   ]
  },
  {
   "cell_type": "code",
   "execution_count": 7,
   "metadata": {},
   "outputs": [],
   "source": [
    "# for i in range(4):\n",
    "#     plt.subplot(2, 2, i + 1)\n",
    "#     plt.imshow(np.uint8(all_images[i]))\n",
    "# plt.show"
   ]
  },
  {
   "cell_type": "code",
   "execution_count": 8,
   "metadata": {},
   "outputs": [
    {
     "name": "stdout",
     "output_type": "stream",
     "text": [
      "5856\n",
      "5856\n"
     ]
    }
   ],
   "source": [
    "control_labels = [0] * len(control_images)\n",
    "covid_labels = [1] * len(covid_images)\n",
    "label_series = pd.Series(control_labels + covid_labels)\n",
    "print(len(all_images))\n",
    "print(len(label_series))"
   ]
  },
  {
   "cell_type": "code",
   "execution_count": 9,
   "metadata": {},
   "outputs": [],
   "source": [
    "X_train, X_test, y_train, y_test = train_test_split(all_images, label_series, test_size=0.25, random_state=42)"
   ]
  },
  {
   "cell_type": "code",
   "execution_count": 10,
   "metadata": {},
   "outputs": [
    {
     "name": "stdout",
     "output_type": "stream",
     "text": [
      "4392\n",
      "4392\n"
     ]
    }
   ],
   "source": [
    "print(len(X_train))\n",
    "print(len(y_train))"
   ]
  },
  {
   "cell_type": "code",
   "execution_count": 11,
   "metadata": {},
   "outputs": [],
   "source": [
    "adam = tf.keras.optimizers.Adam(learning_rate=0.0001)\n",
    "\n",
    "inp = tf.keras.layers.Input(shape=input_image_dim)\n",
    "x = tf.keras.layers.Conv2D(filters=32, kernel_size=(3, 3), activation='relu')(inp)\n",
    "x = tf.keras.layers.MaxPool2D(pool_size=(2, 2))(x)\n",
    "x = tf.keras.layers.Conv2D(filters=64, kernel_size=(3, 3), activation='relu')(x)\n",
    "x = tf.keras.layers.MaxPool2D(pool_size=(2, 2))(x)\n",
    "x = tf.keras.layers.Conv2D(filters=128, kernel_size=(3, 3), activation='relu')(x)\n",
    "x = tf.keras.layers.MaxPool2D(pool_size=(2, 2))(x)\n",
    "\n",
    "x = tf.keras.layers.Flatten()(x)\n",
    "x = tf.keras.layers.Dense(1024, activation='relu')(x)\n",
    "x = tf.keras.layers.Dropout(0.3)(x)\n",
    "x = tf.keras.layers.Dense(512, activation='relu')(x)\n",
    "x = tf.keras.layers.Dropout(0.3)(x)\n",
    "y = tf.keras.layers.Dense(1, activation='sigmoid')(x)\n",
    "\n",
    "model = tf.keras.Model(inp, y)\n",
    "model.compile(loss='binary_crossentropy', optimizer=adam, metrics=['accuracy'])"
   ]
  },
  {
   "cell_type": "code",
   "execution_count": 12,
   "metadata": {},
   "outputs": [
    {
     "name": "stdout",
     "output_type": "stream",
     "text": [
      "Train on 4392 samples\n",
      "Epoch 1/3\n",
      "4392/4392 [==============================] - 1090s 248ms/sample - loss: 0.9664 - accuracy: 0.8670\n",
      "Epoch 2/3\n",
      "4392/4392 [==============================] - 1096s 249ms/sample - loss: 0.2928 - accuracy: 0.9092\n",
      "Epoch 3/3\n",
      "4392/4392 [==============================] - 1093s 249ms/sample - loss: 0.2642 - accuracy: 0.9310\n",
      "Simple network 1 - accuracy: 0.93784153\n",
      "Simple network 1 - recall: 0.8746867\n",
      "Simple network 1 - precision: 0.8948718\n",
      "Simple network 1 - F1 score: 0.8846641218226838\n"
     ]
    }
   ],
   "source": [
    "model.fit(X_train, y_train, batch_size=1, epochs=3, use_multiprocessing=1)\n",
    "ba = tf.keras.metrics.BinaryAccuracy()\n",
    "recall = tf.keras.metrics.Recall()\n",
    "precision = tf.keras.metrics.Precision()\n",
    "ba.update_state(y_test, model.predict(X_test))\n",
    "recall.update_state(y_test, [prediction[0] for prediction in model.predict(X_test)])\n",
    "precision.update_state(y_test, [prediction[0] for prediction in model.predict(X_test)])\n",
    "recall_result = recall.result().numpy()\n",
    "precision_result = precision.result().numpy()\n",
    "\n",
    "network_type = 'Simple network 1'\n",
    "print(network_type, '-', 'accuracy:', ba.result().numpy())\n",
    "print(network_type, '-', 'recall:', recall_result)\n",
    "print(network_type, '-', 'precision:', precision_result)\n",
    "print(network_type, '-', 'F1 score:', 2 * (precision_result * recall_result) / (precision_result + recall_result))"
   ]
  },
  {
   "cell_type": "code",
   "execution_count": 13,
   "metadata": {},
   "outputs": [],
   "source": [
    "adam = tf.keras.optimizers.Adam(learning_rate=0.0001)\n",
    "\n",
    "inp = tf.keras.layers.Input(shape=input_image_dim)\n",
    "x = tf.keras.layers.Conv2D(filters=32, kernel_size=(3, 3), activation='relu')(inp)\n",
    "x = tf.keras.layers.Conv2D(filters=32, kernel_size=(3, 3), activation='relu')(x)\n",
    "x = tf.keras.layers.Conv2D(filters=32, kernel_size=(3, 3), activation='relu')(x)\n",
    "x = tf.keras.layers.Conv2D(filters=32, kernel_size=(3, 3), activation='relu')(x)\n",
    "x = tf.keras.layers.MaxPool2D(pool_size=(2, 2))(x)\n",
    "\n",
    "x = tf.keras.layers.Conv2D(filters=64, kernel_size=(3, 3), activation='relu')(x)\n",
    "x = tf.keras.layers.Conv2D(filters=64, kernel_size=(3, 3), activation='relu')(x)\n",
    "x = tf.keras.layers.MaxPool2D(pool_size=(2, 2))(x)\n",
    "\n",
    "x = tf.keras.layers.Conv2D(filters=128, kernel_size=(3, 3), activation='relu')(x)\n",
    "x = tf.keras.layers.MaxPool2D(pool_size=(2, 2))(x)\n",
    "\n",
    "x = tf.keras.layers.Flatten()(x)\n",
    "x = tf.keras.layers.Dense(1024, activation='relu')(x)\n",
    "x = tf.keras.layers.Dropout(0.3)(x)\n",
    "x = tf.keras.layers.Dense(512, activation='relu')(x)\n",
    "x = tf.keras.layers.Dropout(0.3)(x)\n",
    "y = tf.keras.layers.Dense(1, activation='sigmoid')(x)\n",
    "\n",
    "model = tf.keras.Model(inp, y)\n",
    "model.compile(loss='binary_crossentropy', optimizer=adam, metrics=['accuracy'])"
   ]
  },
  {
   "cell_type": "code",
   "execution_count": 14,
   "metadata": {},
   "outputs": [
    {
     "name": "stdout",
     "output_type": "stream",
     "text": [
      "Train on 4392 samples\n",
      "Epoch 1/3\n",
      "4392/4392 [==============================] - 1394s 317ms/sample - loss: 0.3614 - accuracy: 0.8848\n",
      "Epoch 2/3\n",
      "4392/4392 [==============================] - 1391s 317ms/sample - loss: 0.2011 - accuracy: 0.9340\n",
      "Epoch 3/3\n",
      "4392/4392 [==============================] - 1389s 316ms/sample - loss: 0.1546 - accuracy: 0.9449\n",
      "Simple network 2 - accuracy: 0.95423496\n",
      "Simple network 2 - recall: 0.9047619\n",
      "Simple network 2 - precision: 0.925641\n",
      "Simple network 2 - F1 score: 0.9150824004274438\n"
     ]
    }
   ],
   "source": [
    "model.fit(X_train, y_train, batch_size=1, epochs=3, use_multiprocessing=1)\n",
    "ba = tf.keras.metrics.BinaryAccuracy()\n",
    "recall = tf.keras.metrics.Recall()\n",
    "precision = tf.keras.metrics.Precision()\n",
    "ba.update_state(y_test, model.predict(X_test))\n",
    "recall.update_state(y_test, [prediction[0] for prediction in model.predict(X_test)])\n",
    "precision.update_state(y_test, [prediction[0] for prediction in model.predict(X_test)])\n",
    "recall_result = recall.result().numpy()\n",
    "precision_result = precision.result().numpy()\n",
    "\n",
    "network_type = 'Simple network 2'\n",
    "print(network_type, '-', 'accuracy:', ba.result().numpy())\n",
    "print(network_type, '-', 'recall:', recall_result)\n",
    "print(network_type, '-', 'precision:', precision_result)\n",
    "print(network_type, '-', 'F1 score:', 2 * (precision_result * recall_result) / (precision_result + recall_result))"
   ]
  },
  {
   "cell_type": "code",
   "execution_count": 15,
   "metadata": {},
   "outputs": [
    {
     "name": "stderr",
     "output_type": "stream",
     "text": [
      "C:\\Users\\bruce\\miniconda3\\envs\\capstone\\lib\\site-packages\\keras_applications\\mobilenet_v2.py:294: UserWarning: `input_shape` is undefined or non-square, or `rows` is not in [96, 128, 160, 192, 224]. Weights for input shape (224, 224) will be loaded as the default.\n",
      "  warnings.warn('`input_shape` is undefined or non-square, '\n"
     ]
    }
   ],
   "source": [
    "adam = tf.keras.optimizers.Adam(learning_rate=0.00001)\n",
    "\n",
    "base_model = tf.keras.applications.MobileNetV2(input_shape=input_image_dim, include_top=False, weights='imagenet')\n",
    "base_model.trainable = True\n",
    "\n",
    "global_average_layer = tf.keras.layers.GlobalAveragePooling2D()\n",
    "dense_layer = tf.keras.layers.Dense(500, activation='relu')\n",
    "dropout_layer = tf.keras.layers.Dropout(0.3)\n",
    "prediction_layer = tf.keras.layers.Dense(1, activation='sigmoid')\n",
    "model = tf.keras.Sequential([\n",
    "    base_model,\n",
    "    global_average_layer,\n",
    "    dense_layer,\n",
    "    dropout_layer,\n",
    "    prediction_layer\n",
    "])\n",
    "model.compile(optimizer=adam, loss='binary_crossentropy', metrics=['accuracy'])"
   ]
  },
  {
   "cell_type": "code",
   "execution_count": 16,
   "metadata": {},
   "outputs": [
    {
     "name": "stdout",
     "output_type": "stream",
     "text": [
      "Train on 4392 samples\n",
      "Epoch 1/2\n",
      "4392/4392 [==============================] - 450s 102ms/sample - loss: 0.3018 - accuracy: 0.8704\n",
      "Epoch 2/2\n",
      "4392/4392 [==============================] - 447s 102ms/sample - loss: 0.0873 - accuracy: 0.9684\n",
      "Mobile Net V2 - accuracy: 0.897541\n",
      "Mobile Net V2 - recall: 0.7593985\n",
      "Mobile Net V2 - precision: 0.8487395\n",
      "Mobile Net V2 - F1 score: 0.8015873192370074\n"
     ]
    }
   ],
   "source": [
    "model.fit(X_train, y_train, batch_size=1, epochs=2, use_multiprocessing=1)\n",
    "ba = tf.keras.metrics.BinaryAccuracy()\n",
    "recall = tf.keras.metrics.Recall()\n",
    "precision = tf.keras.metrics.Precision()\n",
    "ba.update_state(y_test, model.predict(X_test))\n",
    "recall.update_state(y_test, [prediction[0] for prediction in model.predict(X_test)])\n",
    "precision.update_state(y_test, [prediction[0] for prediction in model.predict(X_test)])\n",
    "recall_result = recall.result().numpy()\n",
    "precision_result = precision.result().numpy()\n",
    "\n",
    "network_type = 'Mobile Net V2'\n",
    "print(network_type, '-', 'accuracy:', ba.result().numpy())\n",
    "print(network_type, '-', 'recall:', recall_result)\n",
    "print(network_type, '-', 'precision:', precision_result)\n",
    "print(network_type, '-', 'F1 score:', 2 * (precision_result * recall_result) / (precision_result + recall_result))"
   ]
  },
  {
   "cell_type": "code",
   "execution_count": 17,
   "metadata": {},
   "outputs": [],
   "source": [
    "adam = tf.keras.optimizers.Adam(learning_rate=0.00001)\n",
    "\n",
    "base_model = tf.keras.applications.ResNet50V2(input_shape=input_image_dim, include_top=False, weights='imagenet')\n",
    "base_model.trainable = True\n",
    "\n",
    "global_average_layer = tf.keras.layers.GlobalAveragePooling2D()\n",
    "dense_layer = tf.keras.layers.Dense(500, activation='relu')\n",
    "prediction_layer = tf.keras.layers.Dense(1, activation='sigmoid')\n",
    "model = tf.keras.Sequential([\n",
    "    base_model,\n",
    "    global_average_layer,\n",
    "    dense_layer,\n",
    "    prediction_layer\n",
    "])\n",
    "model.compile(optimizer=adam, loss='binary_crossentropy', metrics=['accuracy'])"
   ]
  },
  {
   "cell_type": "code",
   "execution_count": 18,
   "metadata": {},
   "outputs": [
    {
     "name": "stdout",
     "output_type": "stream",
     "text": [
      "Train on 4392 samples\n",
      "4392/4392 [==============================] - 1089s 248ms/sample - loss: 0.1833 - accuracy: 0.9303\n",
      "ResNet50 V2 - accuracy: 0.9474044\n",
      "ResNet50 V2 - recall: 0.8847118\n",
      "ResNet50 V2 - precision: 0.9192708\n",
      "ResNet50 V2 - F1 score: 0.9016603093272982\n"
     ]
    }
   ],
   "source": [
    "model.fit(X_train, y_train, batch_size=1, epochs=1, use_multiprocessing=1)\n",
    "ba = tf.keras.metrics.BinaryAccuracy()\n",
    "recall = tf.keras.metrics.Recall()\n",
    "precision = tf.keras.metrics.Precision()\n",
    "ba.update_state(y_test, model.predict(X_test))\n",
    "recall.update_state(y_test, [prediction[0] for prediction in model.predict(X_test)])\n",
    "precision.update_state(y_test, [prediction[0] for prediction in model.predict(X_test)])\n",
    "recall_result = recall.result().numpy()\n",
    "precision_result = precision.result().numpy()\n",
    "\n",
    "network_type = 'ResNet50 V2'\n",
    "print(network_type, '-', 'accuracy:', ba.result().numpy())\n",
    "print(network_type, '-', 'recall:', recall_result)\n",
    "print(network_type, '-', 'precision:', precision_result)\n",
    "print(network_type, '-', 'F1 score:', 2 * (precision_result * recall_result) / (precision_result + recall_result))"
   ]
  },
  {
   "cell_type": "code",
   "execution_count": 19,
   "metadata": {},
   "outputs": [],
   "source": [
    "adam = tf.keras.optimizers.Adam(learning_rate=0.00001)\n",
    "\n",
    "base_model = tf.keras.applications.VGG16(input_shape=input_image_dim, include_top=False, weights='imagenet')\n",
    "base_model.trainable = True\n",
    "\n",
    "global_average_layer = tf.keras.layers.GlobalAveragePooling2D()\n",
    "dense_layer = tf.keras.layers.Dense(500, activation='relu')\n",
    "dropout_layer = tf.keras.layers.Dropout(0.3)\n",
    "prediction_layer = tf.keras.layers.Dense(1, activation='sigmoid')\n",
    "model = tf.keras.Sequential([\n",
    "    base_model,\n",
    "    global_average_layer,\n",
    "    dropout_layer,\n",
    "    dense_layer,\n",
    "    prediction_layer\n",
    "])\n",
    "model.compile(optimizer=adam, loss='binary_crossentropy', metrics=['accuracy'])"
   ]
  },
  {
   "cell_type": "code",
   "execution_count": 20,
   "metadata": {},
   "outputs": [
    {
     "name": "stdout",
     "output_type": "stream",
     "text": [
      "Train on 4392 samples\n",
      "4392/4392 [==============================] - 1833s 417ms/sample - loss: 0.2091 - accuracy: 0.9242\n",
      "VGG16 - accuracy: 0.91530055\n",
      "VGG16 - recall: 0.9699248\n",
      "VGG16 - precision: 0.7755511\n",
      "VGG16 - F1 score: 0.8619153533373223\n"
     ]
    }
   ],
   "source": [
    "model.fit(X_train, y_train, batch_size=1, epochs=1, use_multiprocessing=1)\n",
    "ba = tf.keras.metrics.BinaryAccuracy()\n",
    "recall = tf.keras.metrics.Recall()\n",
    "precision = tf.keras.metrics.Precision()\n",
    "ba.update_state(y_test, model.predict(X_test))\n",
    "recall.update_state(y_test, [prediction[0] for prediction in model.predict(X_test)])\n",
    "precision.update_state(y_test, [prediction[0] for prediction in model.predict(X_test)])\n",
    "recall_result = recall.result().numpy()\n",
    "precision_result = precision.result().numpy()\n",
    "\n",
    "network_type = 'VGG16'\n",
    "print(network_type, '-', 'accuracy:', ba.result().numpy())\n",
    "print(network_type, '-', 'recall:', recall_result)\n",
    "print(network_type, '-', 'precision:', precision_result)\n",
    "print(network_type, '-', 'F1 score:', 2 * (precision_result * recall_result) / (precision_result + recall_result))"
   ]
  },
  {
   "cell_type": "code",
   "execution_count": 21,
   "metadata": {},
   "outputs": [],
   "source": [
    "adam = tf.keras.optimizers.Adam(learning_rate=0.00001)\n",
    "\n",
    "base_model = tf.keras.applications.VGG19(input_shape=input_image_dim, include_top=False, weights='imagenet')\n",
    "base_model.trainable = True\n",
    "\n",
    "global_average_layer = tf.keras.layers.GlobalAveragePooling2D()\n",
    "dense_layer = tf.keras.layers.Dense(500, activation='relu')\n",
    "dropout_layer = tf.keras.layers.Dropout(0.3)\n",
    "prediction_layer = tf.keras.layers.Dense(1, activation='sigmoid')\n",
    "model = tf.keras.Sequential([\n",
    "    base_model,\n",
    "    global_average_layer,\n",
    "    dense_layer,\n",
    "    dropout_layer,\n",
    "    prediction_layer\n",
    "])\n",
    "model.compile(optimizer=adam, loss='binary_crossentropy', metrics=['accuracy'])"
   ]
  },
  {
   "cell_type": "code",
   "execution_count": 22,
   "metadata": {},
   "outputs": [
    {
     "name": "stdout",
     "output_type": "stream",
     "text": [
      "Train on 4392 samples\n",
      "4392/4392 [==============================] - 2156s 491ms/sample - loss: 0.2034 - accuracy: 0.9237\n",
      "VGG19 - accuracy: 0.93784153\n",
      "VGG19 - recall: 0.9849624\n",
      "VGG19 - precision: 0.82217574\n",
      "VGG19 - F1 score: 0.8962371401352061\n"
     ]
    }
   ],
   "source": [
    "model.fit(X_train, y_train, batch_size=1, epochs=1, use_multiprocessing=1)\n",
    "ba = tf.keras.metrics.BinaryAccuracy()\n",
    "recall = tf.keras.metrics.Recall()\n",
    "precision = tf.keras.metrics.Precision()\n",
    "ba.update_state(y_test, model.predict(X_test))\n",
    "recall.update_state(y_test, [prediction[0] for prediction in model.predict(X_test)])\n",
    "precision.update_state(y_test, [prediction[0] for prediction in model.predict(X_test)])\n",
    "recall_result = recall.result().numpy()\n",
    "precision_result = precision.result().numpy()\n",
    "\n",
    "network_type = 'VGG19'\n",
    "print(network_type, '-', 'accuracy:', ba.result().numpy())\n",
    "print(network_type, '-', 'recall:', recall_result)\n",
    "print(network_type, '-', 'precision:', precision_result)\n",
    "print(network_type, '-', 'F1 score:', 2 * (precision_result * recall_result) / (precision_result + recall_result))"
   ]
  },
  {
   "cell_type": "raw",
   "metadata": {},
   "source": [
    "use only higher res images, fiddle with epochs and LR, dropout layer?, look for med image specific networks?\n",
    "\n",
    "adjust epochs\n",
    "\n",
    "x-rays\n",
    "\n",
    "sars images?"
   ]
  },
  {
   "cell_type": "code",
   "execution_count": null,
   "metadata": {},
   "outputs": [],
   "source": []
  }
 ],
 "metadata": {
  "kernelspec": {
   "display_name": "Python 3.6.10 64-bit ('capstone': conda)",
   "language": "python",
   "name": "python361064bitcapstonecondaccd97f80eb1d4d9b9a9bc41a0404f1e3"
  },
  "language_info": {
   "codemirror_mode": {
    "name": "ipython",
    "version": 3
   },
   "file_extension": ".py",
   "mimetype": "text/x-python",
   "name": "python",
   "nbconvert_exporter": "python",
   "pygments_lexer": "ipython3",
   "version": "3.6.10"
  }
 },
 "nbformat": 4,
 "nbformat_minor": 4
}

{
 "cells": [
  {
   "cell_type": "code",
   "execution_count": 1,
   "metadata": {},
   "outputs": [],
   "source": [
    "import cv2\n",
    "import os\n",
    "import numpy as np\n",
    "import pandas as pd\n",
    "import matplotlib.pyplot as plt\n",
    "import tensorflow as tf\n",
    "\n",
    "from sklearn.model_selection import train_test_split\n",
    "from tensorflow.keras.preprocessing.image import load_img, img_to_array\n",
    "\n",
    "%matplotlib inline\n",
    "tf.config.set_visible_devices([], 'GPU')"
   ]
  },
  {
   "cell_type": "code",
   "execution_count": 2,
   "metadata": {},
   "outputs": [],
   "source": [
    "def load_images_from_folder(folder):\n",
    "    images = []\n",
    "    for filename in os.listdir(folder):\n",
    "        img = cv2.imread(os.path.join(folder,filename), cv2.IMREAD_GRAYSCALE)\n",
    "        if img is not None:\n",
    "            img = cv2.resize(img, (150, 150))\n",
    "            img_data = np.asarray(img)\n",
    "            images.append(img_data)\n",
    "    return images"
   ]
  },
  {
   "cell_type": "code",
   "execution_count": 3,
   "metadata": {},
   "outputs": [],
   "source": [
    "def load_images_from_folder_2(folder):\n",
    "    images = []\n",
    "    for filename in os.listdir(folder):\n",
    "        loaded_img = load_img(os.path.join(folder,filename), target_size=(150, 150))\n",
    "        numpy_img = img_to_array(loaded_img)\n",
    "        images.append(numpy_img)\n",
    "    return images"
   ]
  },
  {
   "cell_type": "code",
   "execution_count": 4,
   "metadata": {},
   "outputs": [],
   "source": [
    "control_images = load_images_from_folder_2('CT_NonCOVID')\n",
    "covid_images = load_images_from_folder_2('CT_COVID')\n",
    "all_images = control_images + covid_images\n",
    "all_images = np.array(all_images)\n",
    "# all_images = all_images.reshape((-1, 150, 150, 3))"
   ]
  },
  {
   "cell_type": "code",
   "execution_count": 5,
   "metadata": {},
   "outputs": [
    {
     "data": {
      "text/plain": [
       "(746, 150, 150, 3)"
      ]
     },
     "execution_count": 5,
     "metadata": {},
     "output_type": "execute_result"
    }
   ],
   "source": [
    "\n",
    "all_images.shape"
   ]
  },
  {
   "cell_type": "code",
   "execution_count": 6,
   "metadata": {},
   "outputs": [],
   "source": [
    "# for i in range(4):\n",
    "#     plt.subplot(2, 2, i + 1)\n",
    "#     plt.imshow(np.uint8(all_images[i]))\n",
    "# plt.show"
   ]
  },
  {
   "cell_type": "code",
   "execution_count": 7,
   "metadata": {},
   "outputs": [
    {
     "name": "stdout",
     "output_type": "stream",
     "text": [
      "746\n",
      "746\n"
     ]
    }
   ],
   "source": [
    "control_labels = [0] * len(control_images)\n",
    "covid_labels = [1] * len(covid_images)\n",
    "label_series = pd.Series(control_labels + covid_labels)\n",
    "print(len(all_images))\n",
    "print(len(label_series))"
   ]
  },
  {
   "cell_type": "code",
   "execution_count": 8,
   "metadata": {},
   "outputs": [],
   "source": [
    "X_train, X_test, y_train, y_test = train_test_split(all_images, label_series, test_size=0.25, random_state=42)"
   ]
  },
  {
   "cell_type": "code",
   "execution_count": 9,
   "metadata": {},
   "outputs": [
    {
     "name": "stdout",
     "output_type": "stream",
     "text": [
      "559\n",
      "559\n"
     ]
    }
   ],
   "source": [
    "print(len(X_train))\n",
    "print(len(y_train))"
   ]
  },
  {
   "cell_type": "code",
   "execution_count": 10,
   "metadata": {},
   "outputs": [],
   "source": [
    "adam = tf.keras.optimizers.Adam(learning_rate=0.0001)\n",
    "\n",
    "inp = tf.keras.layers.Input(shape=(150, 150, 3))\n",
    "x = tf.keras.layers.Conv2D(filters=32, kernel_size=(3, 3), activation='relu')(inp)\n",
    "x = tf.keras.layers.MaxPool2D(pool_size=(2, 2))(x)\n",
    "x = tf.keras.layers.Conv2D(filters=64, kernel_size=(3, 3), activation='relu')(x)\n",
    "x = tf.keras.layers.MaxPool2D(pool_size=(2, 2))(x)\n",
    "x = tf.keras.layers.Conv2D(filters=128, kernel_size=(3, 3), activation='relu')(x)\n",
    "x = tf.keras.layers.MaxPool2D(pool_size=(2, 2))(x)\n",
    "\n",
    "x = tf.keras.layers.Flatten()(x)\n",
    "x = tf.keras.layers.Dense(1024, activation='relu')(x)\n",
    "x = tf.keras.layers.Dropout(0.3)(x)\n",
    "x = tf.keras.layers.Dense(512, activation='relu')(x)\n",
    "x = tf.keras.layers.Dropout(0.3)(x)\n",
    "y = tf.keras.layers.Dense(1, activation='sigmoid')(x)\n",
    "\n",
    "model = tf.keras.Model(inp, y)\n",
    "model.compile(loss='binary_crossentropy', optimizer=adam, metrics=['accuracy'])"
   ]
  },
  {
   "cell_type": "code",
   "execution_count": 11,
   "metadata": {},
   "outputs": [
    {
     "name": "stdout",
     "output_type": "stream",
     "text": [
      "Train on 559 samples\n",
      "Epoch 1/8\n",
      "559/559 [==============================] - 5s 9ms/sample - loss: 25.5777 - accuracy: 0.5331\n",
      "Epoch 2/8\n",
      "559/559 [==============================] - 5s 8ms/sample - loss: 10.2801 - accuracy: 0.5116\n",
      "Epoch 3/8\n",
      "559/559 [==============================] - 5s 8ms/sample - loss: 4.1554 - accuracy: 0.5689\n",
      "Epoch 4/8\n",
      "559/559 [==============================] - 5s 8ms/sample - loss: 2.0256 - accuracy: 0.6011\n",
      "Epoch 5/8\n",
      "559/559 [==============================] - 5s 8ms/sample - loss: 1.1150 - accuracy: 0.6673\n",
      "Epoch 6/8\n",
      "559/559 [==============================] - 5s 8ms/sample - loss: 0.5912 - accuracy: 0.7478\n",
      "Epoch 7/8\n",
      "559/559 [==============================] - 6s 10ms/sample - loss: 0.4758 - accuracy: 0.7710\n",
      "Epoch 8/8\n",
      "559/559 [==============================] - 5s 8ms/sample - loss: 0.3254 - accuracy: 0.8479\n",
      "Simple network 1 - accuracy: 0.7433155\n",
      "Simple network 1 - recall: 0.5714286\n",
      "Simple network 1 - precision: 0.7457627\n",
      "Simple network 1 - F1 score: 0.6470588182057273\n"
     ]
    }
   ],
   "source": [
    "model.fit(X_train, y_train, batch_size=64, epochs=8, use_multiprocessing=1)\n",
    "ba = tf.keras.metrics.BinaryAccuracy()\n",
    "recall = tf.keras.metrics.Recall()\n",
    "precision = tf.keras.metrics.Precision()\n",
    "ba.update_state(y_test, model.predict(X_test))\n",
    "recall.update_state(y_test, [prediction[0] for prediction in model.predict(X_test)])\n",
    "precision.update_state(y_test, [prediction[0] for prediction in model.predict(X_test)])\n",
    "recall_result = recall.result().numpy()\n",
    "precision_result = precision.result().numpy()\n",
    "\n",
    "network_type = 'Simple network 1'\n",
    "print(network_type, '-', 'accuracy:', ba.result().numpy())\n",
    "print(network_type, '-', 'recall:', recall_result)\n",
    "print(network_type, '-', 'precision:', precision_result)\n",
    "print(network_type, '-', 'F1 score:', 2 * (precision_result * recall_result) / (precision_result + recall_result))"
   ]
  },
  {
   "cell_type": "code",
   "execution_count": 12,
   "metadata": {},
   "outputs": [],
   "source": [
    "adam = tf.keras.optimizers.Adam(learning_rate=0.0001)\n",
    "\n",
    "inp = tf.keras.layers.Input(shape=(150, 150, 3))\n",
    "x = tf.keras.layers.Conv2D(filters=32, kernel_size=(3, 3), activation='relu')(inp)\n",
    "x = tf.keras.layers.Conv2D(filters=32, kernel_size=(3, 3), activation='relu')(x)\n",
    "x = tf.keras.layers.Conv2D(filters=32, kernel_size=(3, 3), activation='relu')(x)\n",
    "x = tf.keras.layers.Conv2D(filters=32, kernel_size=(3, 3), activation='relu')(x)\n",
    "x = tf.keras.layers.MaxPool2D(pool_size=(2, 2))(x)\n",
    "\n",
    "x = tf.keras.layers.Conv2D(filters=64, kernel_size=(3, 3), activation='relu')(x)\n",
    "x = tf.keras.layers.Conv2D(filters=64, kernel_size=(3, 3), activation='relu')(x)\n",
    "x = tf.keras.layers.MaxPool2D(pool_size=(2, 2))(x)\n",
    "\n",
    "x = tf.keras.layers.Conv2D(filters=128, kernel_size=(3, 3), activation='relu')(x)\n",
    "x = tf.keras.layers.MaxPool2D(pool_size=(2, 2))(x)\n",
    "\n",
    "x = tf.keras.layers.Flatten()(x)\n",
    "x = tf.keras.layers.Dense(1024, activation='relu')(x)\n",
    "x = tf.keras.layers.Dropout(0.3)(x)\n",
    "x = tf.keras.layers.Dense(512, activation='relu')(x)\n",
    "x = tf.keras.layers.Dropout(0.3)(x)\n",
    "y = tf.keras.layers.Dense(1, activation='sigmoid')(x)\n",
    "\n",
    "model = tf.keras.Model(inp, y)\n",
    "model.compile(loss='binary_crossentropy', optimizer=adam, metrics=['accuracy'])"
   ]
  },
  {
   "cell_type": "code",
   "execution_count": 13,
   "metadata": {},
   "outputs": [
    {
     "name": "stdout",
     "output_type": "stream",
     "text": [
      "Train on 559 samples\n",
      "Epoch 1/8\n",
      "559/559 [==============================] - 18s 32ms/sample - loss: 6.6913 - accuracy: 0.5259\n",
      "Epoch 2/8\n",
      "559/559 [==============================] - 17s 31ms/sample - loss: 1.3875 - accuracy: 0.5081\n",
      "Epoch 3/8\n",
      "559/559 [==============================] - 18s 32ms/sample - loss: 0.8167 - accuracy: 0.5564\n",
      "Epoch 4/8\n",
      "559/559 [==============================] - 18s 32ms/sample - loss: 0.7208 - accuracy: 0.5617\n",
      "Epoch 5/8\n",
      "559/559 [==============================] - 19s 33ms/sample - loss: 0.6410 - accuracy: 0.6154\n",
      "Epoch 6/8\n",
      "559/559 [==============================] - 18s 33ms/sample - loss: 0.6317 - accuracy: 0.6279\n",
      "Epoch 7/8\n",
      "559/559 [==============================] - 19s 34ms/sample - loss: 0.5540 - accuracy: 0.6977\n",
      "Epoch 8/8\n",
      "559/559 [==============================] - 18s 33ms/sample - loss: 0.5260 - accuracy: 0.7335\n",
      "Simple network 2 - accuracy: 0.7486631\n",
      "Simple network 2 - recall: 0.5714286\n",
      "Simple network 2 - precision: 0.7586207\n",
      "Simple network 2 - F1 score: 0.6518518611465788\n"
     ]
    }
   ],
   "source": [
    "model.fit(X_train, y_train, batch_size=64, epochs=8, use_multiprocessing=1)\n",
    "ba = tf.keras.metrics.BinaryAccuracy()\n",
    "recall = tf.keras.metrics.Recall()\n",
    "precision = tf.keras.metrics.Precision()\n",
    "ba.update_state(y_test, model.predict(X_test))\n",
    "recall.update_state(y_test, [prediction[0] for prediction in model.predict(X_test)])\n",
    "precision.update_state(y_test, [prediction[0] for prediction in model.predict(X_test)])\n",
    "recall_result = recall.result().numpy()\n",
    "precision_result = precision.result().numpy()\n",
    "\n",
    "network_type = 'Simple network 2'\n",
    "print(network_type, '-', 'accuracy:', ba.result().numpy())\n",
    "print(network_type, '-', 'recall:', recall_result)\n",
    "print(network_type, '-', 'precision:', precision_result)\n",
    "print(network_type, '-', 'F1 score:', 2 * (precision_result * recall_result) / (precision_result + recall_result))"
   ]
  },
  {
   "cell_type": "code",
   "execution_count": 14,
   "metadata": {},
   "outputs": [
    {
     "name": "stderr",
     "output_type": "stream",
     "text": [
      "C:\\Users\\bruce\\miniconda3\\envs\\capstone\\lib\\site-packages\\keras_applications\\mobilenet_v2.py:294: UserWarning: `input_shape` is undefined or non-square, or `rows` is not in [96, 128, 160, 192, 224]. Weights for input shape (224, 224) will be loaded as the default.\n",
      "  warnings.warn('`input_shape` is undefined or non-square, '\n"
     ]
    }
   ],
   "source": [
    "adam = tf.keras.optimizers.Adam(learning_rate=0.00001)\n",
    "\n",
    "base_model = tf.keras.applications.MobileNetV2(input_shape=(150, 150, 3), include_top=False, weights='imagenet')\n",
    "base_model.trainable = False\n",
    "\n",
    "global_average_layer = tf.keras.layers.GlobalAveragePooling2D()\n",
    "dense_layer = tf.keras.layers.Dense(500, activation='relu')\n",
    "prediction_layer = tf.keras.layers.Dense(1, activation='sigmoid')\n",
    "model = tf.keras.Sequential([\n",
    "    base_model,\n",
    "    global_average_layer,\n",
    "    dense_layer,\n",
    "    prediction_layer\n",
    "])\n",
    "model.compile(optimizer=adam, loss='binary_crossentropy', metrics=['accuracy'])"
   ]
  },
  {
   "cell_type": "code",
   "execution_count": 15,
   "metadata": {},
   "outputs": [
    {
     "name": "stdout",
     "output_type": "stream",
     "text": [
      "Train on 559 samples\n",
      "Epoch 1/8\n",
      "559/559 [==============================] - 14s 24ms/sample - loss: 0.6830 - accuracy: 0.5778\n",
      "Epoch 2/8\n",
      "559/559 [==============================] - 13s 23ms/sample - loss: 0.5326 - accuracy: 0.7370\n",
      "Epoch 3/8\n",
      "559/559 [==============================] - 12s 22ms/sample - loss: 0.4576 - accuracy: 0.7692\n",
      "Epoch 4/8\n",
      "559/559 [==============================] - 13s 23ms/sample - loss: 0.4047 - accuracy: 0.8336\n",
      "Epoch 5/8\n",
      "559/559 [==============================] - 12s 22ms/sample - loss: 0.3724 - accuracy: 0.8479\n",
      "Epoch 6/8\n",
      "559/559 [==============================] - 13s 23ms/sample - loss: 0.3686 - accuracy: 0.8408\n",
      "Epoch 7/8\n",
      "559/559 [==============================] - 13s 23ms/sample - loss: 0.3236 - accuracy: 0.8891\n",
      "Epoch 8/8\n",
      "559/559 [==============================] - 14s 25ms/sample - loss: 0.2966 - accuracy: 0.8945\n",
      "Mobile Net V2 - accuracy: 0.5080214\n",
      "Mobile Net V2 - recall: 0.36363637\n",
      "Mobile Net V2 - precision: 0.3943662\n",
      "Mobile Net V2 - F1 score: 0.37837839431766795\n"
     ]
    }
   ],
   "source": [
    "model.fit(X_train, y_train, batch_size=32, epochs=10, use_multiprocessing=1)\n",
    "ba = tf.keras.metrics.BinaryAccuracy()\n",
    "recall = tf.keras.metrics.Recall()\n",
    "precision = tf.keras.metrics.Precision()\n",
    "ba.update_state(y_test, model.predict(X_test))\n",
    "recall.update_state(y_test, [prediction[0] for prediction in model.predict(X_test)])\n",
    "precision.update_state(y_test, [prediction[0] for prediction in model.predict(X_test)])\n",
    "recall_result = recall.result().numpy()\n",
    "precision_result = precision.result().numpy()\n",
    "\n",
    "network_type = 'Mobile Net V2'\n",
    "print(network_type, '-', 'accuracy:', ba.result().numpy())\n",
    "print(network_type, '-', 'recall:', recall_result)\n",
    "print(network_type, '-', 'precision:', precision_result)\n",
    "print(network_type, '-', 'F1 score:', 2 * (precision_result * recall_result) / (precision_result + recall_result))"
   ]
  },
  {
   "cell_type": "code",
   "execution_count": 17,
   "metadata": {},
   "outputs": [],
   "source": [
    "adam = tf.keras.optimizers.Adam(learning_rate=0.00001)\n",
    "\n",
    "base_model = tf.keras.applications.ResNet50V2(input_shape=(150, 150, 3), include_top=False, weights='imagenet')\n",
    "base_model.trainable = False\n",
    "\n",
    "global_average_layer = tf.keras.layers.GlobalAveragePooling2D()\n",
    "dense_layer = tf.keras.layers.Dense(500, activation='relu')\n",
    "prediction_layer = tf.keras.layers.Dense(1, activation='sigmoid')\n",
    "model = tf.keras.Sequential([\n",
    "    base_model,\n",
    "    global_average_layer,\n",
    "    dense_layer,\n",
    "    prediction_layer\n",
    "])\n",
    "model.compile(optimizer=adam, loss='binary_crossentropy', metrics=['accuracy'])"
   ]
  },
  {
   "cell_type": "code",
   "execution_count": 18,
   "metadata": {},
   "outputs": [
    {
     "name": "stdout",
     "output_type": "stream",
     "text": [
      "Train on 559 samples\n",
      "Epoch 1/8\n",
      "559/559 [==============================] - 21s 38ms/sample - loss: 0.6641 - accuracy: 0.5957\n",
      "Epoch 2/8\n",
      "559/559 [==============================] - 20s 35ms/sample - loss: 0.5065 - accuracy: 0.7567\n",
      "Epoch 3/8\n",
      "559/559 [==============================] - 19s 34ms/sample - loss: 0.4398 - accuracy: 0.8175\n",
      "Epoch 4/8\n",
      "559/559 [==============================] - 18s 33ms/sample - loss: 0.4179 - accuracy: 0.8354\n",
      "Epoch 5/8\n",
      "559/559 [==============================] - 18s 33ms/sample - loss: 0.3563 - accuracy: 0.8748\n",
      "Epoch 6/8\n",
      "559/559 [==============================] - 20s 36ms/sample - loss: 0.3215 - accuracy: 0.8998\n",
      "Epoch 7/8\n",
      "559/559 [==============================] - 18s 33ms/sample - loss: 0.2879 - accuracy: 0.9177\n",
      "Epoch 8/8\n",
      "559/559 [==============================] - 18s 32ms/sample - loss: 0.2741 - accuracy: 0.9141\n",
      "ResNet50 V2 - accuracy: 0.4117647\n",
      "ResNet50 V2 - recall: 1.0\n",
      "ResNet50 V2 - precision: 0.4117647\n",
      "ResNet50 V2 - F1 score: 0.583333326296674\n"
     ]
    }
   ],
   "source": [
    "model.fit(X_train, y_train, batch_size=32, epochs=10, use_multiprocessing=1)\n",
    "ba = tf.keras.metrics.BinaryAccuracy()\n",
    "recall = tf.keras.metrics.Recall()\n",
    "precision = tf.keras.metrics.Precision()\n",
    "ba.update_state(y_test, model.predict(X_test))\n",
    "recall.update_state(y_test, [prediction[0] for prediction in model.predict(X_test)])\n",
    "precision.update_state(y_test, [prediction[0] for prediction in model.predict(X_test)])\n",
    "recall_result = recall.result().numpy()\n",
    "precision_result = precision.result().numpy()\n",
    "\n",
    "network_type = 'ResNet50 V2'\n",
    "print(network_type, '-', 'accuracy:', ba.result().numpy())\n",
    "print(network_type, '-', 'recall:', recall_result)\n",
    "print(network_type, '-', 'precision:', precision_result)\n",
    "print(network_type, '-', 'F1 score:', 2 * (precision_result * recall_result) / (precision_result + recall_result))"
   ]
  },
  {
   "cell_type": "code",
   "execution_count": 19,
   "metadata": {},
   "outputs": [],
   "source": [
    "adam = tf.keras.optimizers.Adam(learning_rate=0.00001)\n",
    "\n",
    "base_model = tf.keras.applications.VGG16(input_shape=(150, 150, 3), include_top=False, weights='imagenet')\n",
    "base_model.trainable = False\n",
    "\n",
    "global_average_layer = tf.keras.layers.GlobalAveragePooling2D()\n",
    "dense_layer = tf.keras.layers.Dense(500, activation='relu')\n",
    "prediction_layer = tf.keras.layers.Dense(1, activation='sigmoid')\n",
    "model = tf.keras.Sequential([\n",
    "    base_model,\n",
    "    global_average_layer,\n",
    "    dense_layer,\n",
    "    prediction_layer\n",
    "])\n",
    "model.compile(optimizer=adam, loss='binary_crossentropy', metrics=['accuracy'])"
   ]
  },
  {
   "cell_type": "code",
   "execution_count": 20,
   "metadata": {},
   "outputs": [
    {
     "name": "stdout",
     "output_type": "stream",
     "text": [
      "Train on 559 samples\n",
      "Epoch 1/8\n",
      "559/559 [==============================] - 17s 30ms/sample - loss: 1.9978 - accuracy: 0.4937\n",
      "Epoch 2/8\n",
      "559/559 [==============================] - 17s 31ms/sample - loss: 1.1332 - accuracy: 0.5993\n",
      "Epoch 3/8\n",
      "559/559 [==============================] - 18s 32ms/sample - loss: 0.6868 - accuracy: 0.7120\n",
      "Epoch 4/8\n",
      "559/559 [==============================] - 18s 33ms/sample - loss: 0.5151 - accuracy: 0.7961\n",
      "Epoch 5/8\n",
      "559/559 [==============================] - 18s 33ms/sample - loss: 0.3918 - accuracy: 0.8390\n",
      "Epoch 6/8\n",
      "559/559 [==============================] - 17s 31ms/sample - loss: 0.3189 - accuracy: 0.8676\n",
      "Epoch 7/8\n",
      "559/559 [==============================] - 17s 31ms/sample - loss: 0.2656 - accuracy: 0.8945\n",
      "Epoch 8/8\n",
      "559/559 [==============================] - 19s 33ms/sample - loss: 0.2206 - accuracy: 0.9231\n",
      "VGG16 - accuracy: 0.684492\n",
      "VGG16 - recall: 0.71428573\n",
      "VGG16 - precision: 0.59782606\n",
      "VGG16 - F1 score: 0.6508875156358002\n"
     ]
    }
   ],
   "source": [
    "model.fit(X_train, y_train, batch_size=32, epochs=10, use_multiprocessing=1)\n",
    "ba = tf.keras.metrics.BinaryAccuracy()\n",
    "recall = tf.keras.metrics.Recall()\n",
    "precision = tf.keras.metrics.Precision()\n",
    "ba.update_state(y_test, model.predict(X_test))\n",
    "recall.update_state(y_test, [prediction[0] for prediction in model.predict(X_test)])\n",
    "precision.update_state(y_test, [prediction[0] for prediction in model.predict(X_test)])\n",
    "recall_result = recall.result().numpy()\n",
    "precision_result = precision.result().numpy()\n",
    "\n",
    "network_type = 'VGG16'\n",
    "print(network_type, '-', 'accuracy:', ba.result().numpy())\n",
    "print(network_type, '-', 'recall:', recall_result)\n",
    "print(network_type, '-', 'precision:', precision_result)\n",
    "print(network_type, '-', 'F1 score:', 2 * (precision_result * recall_result) / (precision_result + recall_result))"
   ]
  },
  {
   "cell_type": "code",
   "execution_count": 21,
   "metadata": {},
   "outputs": [],
   "source": [
    "adam = tf.keras.optimizers.Adam(learning_rate=0.00001)\n",
    "\n",
    "base_model = tf.keras.applications.VGG19(input_shape=(150, 150, 3), include_top=False, weights='imagenet')\n",
    "base_model.trainable = False\n",
    "\n",
    "global_average_layer = tf.keras.layers.GlobalAveragePooling2D()\n",
    "dense_layer = tf.keras.layers.Dense(500, activation='relu')\n",
    "prediction_layer = tf.keras.layers.Dense(1, activation='sigmoid')\n",
    "model = tf.keras.Sequential([\n",
    "    base_model,\n",
    "    global_average_layer,\n",
    "    dense_layer,\n",
    "    prediction_layer\n",
    "])\n",
    "model.compile(optimizer=adam, loss='binary_crossentropy', metrics=['accuracy'])"
   ]
  },
  {
   "cell_type": "code",
   "execution_count": 22,
   "metadata": {},
   "outputs": [
    {
     "name": "stdout",
     "output_type": "stream",
     "text": [
      "Train on 559 samples\n",
      "Epoch 1/8\n",
      "559/559 [==============================] - 21s 37ms/sample - loss: 1.2177 - accuracy: 0.5635\n",
      "Epoch 2/8\n",
      "559/559 [==============================] - 21s 37ms/sample - loss: 0.8045 - accuracy: 0.6995\n",
      "Epoch 3/8\n",
      "559/559 [==============================] - 21s 38ms/sample - loss: 0.5874 - accuracy: 0.7621\n",
      "Epoch 4/8\n",
      "559/559 [==============================] - 21s 38ms/sample - loss: 0.4471 - accuracy: 0.8068\n",
      "Epoch 5/8\n",
      "559/559 [==============================] - 22s 39ms/sample - loss: 0.3486 - accuracy: 0.8444\n",
      "Epoch 6/8\n",
      "559/559 [==============================] - 21s 38ms/sample - loss: 0.3052 - accuracy: 0.8605\n",
      "Epoch 7/8\n",
      "559/559 [==============================] - 21s 37ms/sample - loss: 0.2481 - accuracy: 0.9052\n",
      "Epoch 8/8\n",
      "559/559 [==============================] - 21s 37ms/sample - loss: 0.2241 - accuracy: 0.9195\n",
      "VGG19 - accuracy: 0.7112299\n",
      "VGG19 - recall: 0.58441556\n",
      "VGG19 - precision: 0.67164177\n",
      "VGG19 - F1 score: 0.625\n"
     ]
    }
   ],
   "source": [
    "model.fit(X_train, y_train, batch_size=32, epochs=10, use_multiprocessing=1)\n",
    "ba = tf.keras.metrics.BinaryAccuracy()\n",
    "recall = tf.keras.metrics.Recall()\n",
    "precision = tf.keras.metrics.Precision()\n",
    "ba.update_state(y_test, model.predict(X_test))\n",
    "recall.update_state(y_test, [prediction[0] for prediction in model.predict(X_test)])\n",
    "precision.update_state(y_test, [prediction[0] for prediction in model.predict(X_test)])\n",
    "recall_result = recall.result().numpy()\n",
    "precision_result = precision.result().numpy()\n",
    "\n",
    "network_type = 'VGG19'\n",
    "print(network_type, '-', 'accuracy:', ba.result().numpy())\n",
    "print(network_type, '-', 'recall:', recall_result)\n",
    "print(network_type, '-', 'precision:', precision_result)\n",
    "print(network_type, '-', 'F1 score:', 2 * (precision_result * recall_result) / (precision_result + recall_result))"
   ]
  }
 ],
 "metadata": {
  "kernelspec": {
   "display_name": "Python 3.6.10 64-bit ('capstone': conda)",
   "language": "python",
   "name": "python361064bitcapstonecondaccd97f80eb1d4d9b9a9bc41a0404f1e3"
  },
  "language_info": {
   "codemirror_mode": {
    "name": "ipython",
    "version": 3
   },
   "file_extension": ".py",
   "mimetype": "text/x-python",
   "name": "python",
   "nbconvert_exporter": "python",
   "pygments_lexer": "ipython3",
   "version": "3.6.10"
  }
 },
 "nbformat": 4,
 "nbformat_minor": 4
}

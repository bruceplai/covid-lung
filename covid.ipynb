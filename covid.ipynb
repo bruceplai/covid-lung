{
 "cells": [
  {
   "cell_type": "code",
   "execution_count": 1,
   "metadata": {},
   "outputs": [],
   "source": [
    "import cv2\n",
    "import os\n",
    "import numpy as np\n",
    "import pandas as pd\n",
    "import matplotlib.pyplot as plt\n",
    "import tensorflow as tf\n",
    "\n",
    "from sklearn.model_selection import train_test_split\n",
    "from tensorflow.keras.preprocessing.image import load_img, img_to_array\n",
    "\n",
    "%matplotlib inline\n",
    "tf.config.set_visible_devices([], 'GPU')"
   ]
  },
  {
   "cell_type": "code",
   "execution_count": 2,
   "metadata": {},
   "outputs": [],
   "source": [
    "def load_images_from_folder(folder):\n",
    "    images = []\n",
    "    for filename in os.listdir(folder):\n",
    "        img = cv2.imread(os.path.join(folder,filename), cv2.IMREAD_GRAYSCALE)\n",
    "        if img is not None:\n",
    "            img = cv2.resize(img, (150, 150))\n",
    "            img_data = np.asarray(img)\n",
    "            images.append(img_data)\n",
    "    return images"
   ]
  },
  {
   "cell_type": "code",
   "execution_count": 3,
   "metadata": {},
   "outputs": [],
   "source": [
    "def load_images_from_folder_2(folder):\n",
    "    images = []\n",
    "    for filename in os.listdir(folder):\n",
    "        loaded_img = load_img(os.path.join(folder,filename), target_size=(150, 150))\n",
    "        numpy_img = img_to_array(loaded_img)\n",
    "        images.append(numpy_img)\n",
    "    return images"
   ]
  },
  {
   "cell_type": "code",
   "execution_count": 4,
   "metadata": {},
   "outputs": [],
   "source": [
    "control_images = load_images_from_folder_2('CT_NonCOVID')\n",
    "covid_images = load_images_from_folder_2('CT_COVID')\n",
    "all_images = control_images + covid_images\n",
    "all_images = np.array(all_images)\n",
    "# all_images = all_images.reshape((-1, 150, 150, 3))"
   ]
  },
  {
   "cell_type": "code",
   "execution_count": 5,
   "metadata": {},
   "outputs": [
    {
     "data": {
      "text/plain": [
       "(746, 150, 150, 3)"
      ]
     },
     "execution_count": 5,
     "metadata": {},
     "output_type": "execute_result"
    }
   ],
   "source": [
    "\n",
    "all_images.shape"
   ]
  },
  {
   "cell_type": "code",
   "execution_count": 6,
   "metadata": {},
   "outputs": [],
   "source": [
    "# for i in range(4):\n",
    "#     plt.subplot(2, 2, i + 1)\n",
    "#     plt.imshow(np.uint8(all_images[i]))\n",
    "# plt.show"
   ]
  },
  {
   "cell_type": "code",
   "execution_count": 7,
   "metadata": {},
   "outputs": [
    {
     "name": "stdout",
     "output_type": "stream",
     "text": [
      "746\n",
      "746\n"
     ]
    }
   ],
   "source": [
    "control_labels = [0] * len(control_images)\n",
    "covid_labels = [1] * len(covid_images)\n",
    "label_series = pd.Series(control_labels + covid_labels)\n",
    "print(len(all_images))\n",
    "print(len(label_series))"
   ]
  },
  {
   "cell_type": "code",
   "execution_count": 8,
   "metadata": {},
   "outputs": [],
   "source": [
    "X_train, X_test, y_train, y_test = train_test_split(all_images, label_series, test_size=0.25, random_state=42)"
   ]
  },
  {
   "cell_type": "code",
   "execution_count": 9,
   "metadata": {},
   "outputs": [
    {
     "name": "stdout",
     "output_type": "stream",
     "text": [
      "559\n",
      "559\n"
     ]
    }
   ],
   "source": [
    "print(len(X_train))\n",
    "print(len(y_train))"
   ]
  },
  {
   "cell_type": "code",
   "execution_count": 10,
   "metadata": {},
   "outputs": [],
   "source": [
    "adam = tf.keras.optimizers.Adam(learning_rate=0.0001)\n",
    "\n",
    "inp = tf.keras.layers.Input(shape=(150, 150, 3))\n",
    "x = tf.keras.layers.Conv2D(filters=32, kernel_size=(3, 3), activation='relu')(inp)\n",
    "x = tf.keras.layers.Conv2D(filters=32, kernel_size=(3, 3), activation='relu')(x)\n",
    "x = tf.keras.layers.Conv2D(filters=32, kernel_size=(3, 3), activation='relu')(x)\n",
    "x = tf.keras.layers.Conv2D(filters=32, kernel_size=(3, 3), activation='relu')(x)\n",
    "x = tf.keras.layers.MaxPool2D(pool_size=(2, 2))(x)\n",
    "\n",
    "x = tf.keras.layers.Conv2D(filters=64, kernel_size=(3, 3), activation='relu')(x)\n",
    "x = tf.keras.layers.Conv2D(filters=64, kernel_size=(3, 3), activation='relu')(x)\n",
    "x = tf.keras.layers.MaxPool2D(pool_size=(2, 2))(x)\n",
    "\n",
    "x = tf.keras.layers.Conv2D(filters=128, kernel_size=(3, 3), activation='relu')(x)\n",
    "x = tf.keras.layers.MaxPool2D(pool_size=(2, 2))(x)\n",
    "\n",
    "x = tf.keras.layers.Flatten()(x)\n",
    "x = tf.keras.layers.Dense(1024, activation='relu')(x)\n",
    "x = tf.keras.layers.Dropout(0.3)(x)\n",
    "x = tf.keras.layers.Dense(512, activation='relu')(x)\n",
    "x = tf.keras.layers.Dropout(0.3)(x)\n",
    "y = tf.keras.layers.Dense(1, activation='sigmoid')(x)\n",
    "\n",
    "model = tf.keras.Model(inp, y)\n",
    "model.compile(loss='binary_crossentropy', optimizer=adam, metrics=['accuracy'])\n"
   ]
  },
  {
   "cell_type": "code",
   "execution_count": 11,
   "metadata": {},
   "outputs": [
    {
     "name": "stdout",
     "output_type": "stream",
     "text": [
      "Train on 559 samples\n",
      "Epoch 1/8\n",
      "559/559 [==============================] - 18s 32ms/sample - loss: 10.2396 - accuracy: 0.4758\n",
      "Epoch 2/8\n",
      "559/559 [==============================] - 17s 31ms/sample - loss: 1.8671 - accuracy: 0.5116\n",
      "Epoch 3/8\n",
      "559/559 [==============================] - 18s 32ms/sample - loss: 1.0043 - accuracy: 0.5295\n",
      "Epoch 4/8\n",
      "559/559 [==============================] - 18s 32ms/sample - loss: 0.7355 - accuracy: 0.5635\n",
      "Epoch 5/8\n",
      "559/559 [==============================] - 18s 33ms/sample - loss: 0.6986 - accuracy: 0.6118\n",
      "Epoch 6/8\n",
      "559/559 [==============================] - 19s 33ms/sample - loss: 0.6041 - accuracy: 0.6601\n",
      "Epoch 7/8\n",
      "559/559 [==============================] - 18s 33ms/sample - loss: 0.5558 - accuracy: 0.7281\n",
      "Epoch 8/8\n",
      "559/559 [==============================] - 18s 33ms/sample - loss: 0.5491 - accuracy: 0.7156\n",
      "COVID image detection accuracy: 0.6524064\n",
      "COVID image detection recall: 0.9350649\n",
      "COVID image detection precision: 0.54545456\n",
      "COVID image detection F1 score: 0.688995159063595\n"
     ]
    }
   ],
   "source": [
    "model.fit(X_train, y_train, batch_size=64, epochs=8, use_multiprocessing=1)\n",
    "ba = tf.keras.metrics.BinaryAccuracy()\n",
    "recall = tf.keras.metrics.Recall()\n",
    "precision = tf.keras.metrics.Precision()\n",
    "ba.update_state(y_test, model.predict(X_test))\n",
    "recall.update_state(y_test, [prediction[0] for prediction in model.predict(X_test)])\n",
    "precision.update_state(y_test, [prediction[0] for prediction in model.predict(X_test)])\n",
    "recall_result = recall.result().numpy()\n",
    "precision_result = precision.result().numpy()\n",
    "print('COVID image detection accuracy:', ba.result().numpy())\n",
    "print('COVID image detection recall:', recall_result)\n",
    "print('COVID image detection precision:', precision_result)\n",
    "print('COVID image detection F1 score:', 2 * (precision_result * recall_result) / (precision_result + recall_result))"
   ]
  },
  {
   "cell_type": "code",
   "execution_count": 12,
   "metadata": {},
   "outputs": [],
   "source": [
    "adam = tf.keras.optimizers.Adam(learning_rate=0.0001)\n",
    "\n",
    "inp = tf.keras.layers.Input(shape=(150, 150, 3))\n",
    "x = tf.keras.layers.Conv2D(filters=32, kernel_size=(3, 3), activation='relu')(inp)\n",
    "x = tf.keras.layers.MaxPool2D(pool_size=(2, 2))(x)\n",
    "x = tf.keras.layers.Conv2D(filters=64, kernel_size=(3, 3), activation='relu')(x)\n",
    "x = tf.keras.layers.MaxPool2D(pool_size=(2, 2))(x)\n",
    "x = tf.keras.layers.Conv2D(filters=128, kernel_size=(3, 3), activation='relu')(x)\n",
    "x = tf.keras.layers.MaxPool2D(pool_size=(2, 2))(x)\n",
    "\n",
    "x = tf.keras.layers.Flatten()(x)\n",
    "x = tf.keras.layers.Dense(1024, activation='relu')(x)\n",
    "x = tf.keras.layers.Dropout(0.3)(x)\n",
    "x = tf.keras.layers.Dense(512, activation='relu')(x)\n",
    "x = tf.keras.layers.Dropout(0.3)(x)\n",
    "y = tf.keras.layers.Dense(1, activation='sigmoid')(x)\n",
    "\n",
    "model = tf.keras.Model(inp, y)\n",
    "model.compile(loss='binary_crossentropy', optimizer=adam, metrics=['accuracy'])"
   ]
  },
  {
   "cell_type": "code",
   "execution_count": 13,
   "metadata": {},
   "outputs": [
    {
     "name": "stdout",
     "output_type": "stream",
     "text": [
      "Train on 559 samples\n",
      "Epoch 1/8\n",
      "559/559 [==============================] - 5s 9ms/sample - loss: 42.0662 - accuracy: 0.4812\n",
      "Epoch 2/8\n",
      "559/559 [==============================] - 5s 9ms/sample - loss: 11.0056 - accuracy: 0.5206\n",
      "Epoch 3/8\n",
      "559/559 [==============================] - 5s 9ms/sample - loss: 6.8943 - accuracy: 0.5456\n",
      "Epoch 4/8\n",
      "559/559 [==============================] - 5s 9ms/sample - loss: 4.2934 - accuracy: 0.5707\n",
      "Epoch 5/8\n",
      "559/559 [==============================] - 5s 9ms/sample - loss: 2.3827 - accuracy: 0.5760\n",
      "Epoch 6/8\n",
      "559/559 [==============================] - 5s 9ms/sample - loss: 1.4371 - accuracy: 0.5581\n",
      "Epoch 7/8\n",
      "559/559 [==============================] - 5s 9ms/sample - loss: 0.8006 - accuracy: 0.6780\n",
      "Epoch 8/8\n",
      "559/559 [==============================] - 5s 9ms/sample - loss: 0.6454 - accuracy: 0.7120\n",
      "COVID image detection accuracy: 0.7058824\n",
      "COVID image detection recall: 0.45454547\n",
      "COVID image detection precision: 0.7291667\n",
      "COVID image detection F1 score: 0.5600000181274414\n"
     ]
    }
   ],
   "source": [
    "model.fit(X_train, y_train, batch_size=64, epochs=8, use_multiprocessing=1)\n",
    "ba = tf.keras.metrics.BinaryAccuracy()\n",
    "recall = tf.keras.metrics.Recall()\n",
    "precision = tf.keras.metrics.Precision()\n",
    "ba.update_state(y_test, model.predict(X_test))\n",
    "recall.update_state(y_test, [prediction[0] for prediction in model.predict(X_test)])\n",
    "precision.update_state(y_test, [prediction[0] for prediction in model.predict(X_test)])\n",
    "recall_result = recall.result().numpy()\n",
    "precision_result = precision.result().numpy()\n",
    "print('COVID image detection accuracy:', ba.result().numpy())\n",
    "print('COVID image detection recall:', recall_result)\n",
    "print('COVID image detection precision:', precision_result)\n",
    "print('COVID image detection F1 score:', 2 * (precision_result * recall_result) / (precision_result + recall_result))"
   ]
  },
  {
   "cell_type": "code",
   "execution_count": 14,
   "metadata": {},
   "outputs": [
    {
     "name": "stderr",
     "output_type": "stream",
     "text": [
      "C:\\Users\\bruce\\miniconda3\\envs\\capstone\\lib\\site-packages\\keras_applications\\mobilenet_v2.py:294: UserWarning: `input_shape` is undefined or non-square, or `rows` is not in [96, 128, 160, 192, 224]. Weights for input shape (224, 224) will be loaded as the default.\n",
      "  warnings.warn('`input_shape` is undefined or non-square, '\n"
     ]
    }
   ],
   "source": [
    "base_model = tf.keras.applications.MobileNetV2(input_shape=(150, 150, 3), include_top=False, weights='imagenet')\n",
    "base_model.trainable = False"
   ]
  },
  {
   "cell_type": "code",
   "execution_count": 15,
   "metadata": {},
   "outputs": [],
   "source": [
    "adam = tf.keras.optimizers.Adam(learning_rate=0.0001)\n",
    "\n",
    "global_average_layer = tf.keras.layers.GlobalAveragePooling2D()\n",
    "dense_layer = tf.keras.layers.Dense(500, activation='relu')\n",
    "prediction_layer = tf.keras.layers.Dense(1, activation='sigmoid')\n",
    "model = tf.keras.Sequential([\n",
    "    base_model,\n",
    "    global_average_layer,\n",
    "    dense_layer,\n",
    "    prediction_layer\n",
    "])\n",
    "model.compile(optimizer=adam, loss='binary_crossentropy', metrics=['accuracy'])"
   ]
  },
  {
   "cell_type": "code",
   "execution_count": 16,
   "metadata": {},
   "outputs": [
    {
     "name": "stdout",
     "output_type": "stream",
     "text": [
      "Train on 559 samples\n",
      "Epoch 1/8\n",
      "559/559 [==============================] - 13s 24ms/sample - loss: 0.6677 - accuracy: 0.5921\n",
      "Epoch 2/8\n",
      "559/559 [==============================] - 12s 22ms/sample - loss: 0.5194 - accuracy: 0.7549\n",
      "Epoch 3/8\n",
      "559/559 [==============================] - 12s 21ms/sample - loss: 0.4746 - accuracy: 0.7925\n",
      "Epoch 4/8\n",
      "559/559 [==============================] - 12s 21ms/sample - loss: 0.4179 - accuracy: 0.8283\n",
      "Epoch 5/8\n",
      "559/559 [==============================] - 12s 21ms/sample - loss: 0.4094 - accuracy: 0.8301\n",
      "Epoch 6/8\n",
      "559/559 [==============================] - 12s 21ms/sample - loss: 0.3576 - accuracy: 0.8623\n",
      "Epoch 7/8\n",
      "559/559 [==============================] - 12s 21ms/sample - loss: 0.3251 - accuracy: 0.8712\n",
      "Epoch 8/8\n",
      "559/559 [==============================] - 12s 21ms/sample - loss: 0.3204 - accuracy: 0.8819\n",
      "COVID image detection accuracy: 0.47058824\n",
      "COVID image detection recall: 0.9480519\n",
      "COVID image detection precision: 0.43452382\n",
      "COVID image detection F1 score: 0.5959183854712833\n"
     ]
    }
   ],
   "source": [
    "model.fit(X_train, y_train, batch_size=32, epochs=8, use_multiprocessing=1)\n",
    "ba = tf.keras.metrics.BinaryAccuracy()\n",
    "recall = tf.keras.metrics.Recall()\n",
    "precision = tf.keras.metrics.Precision()\n",
    "ba.update_state(y_test, model.predict(X_test))\n",
    "recall.update_state(y_test, [prediction[0] for prediction in model.predict(X_test)])\n",
    "precision.update_state(y_test, [prediction[0] for prediction in model.predict(X_test)])\n",
    "recall_result = recall.result().numpy()\n",
    "precision_result = precision.result().numpy()\n",
    "print('COVID image detection accuracy:', ba.result().numpy())\n",
    "print('COVID image detection recall:', recall_result)\n",
    "print('COVID image detection precision:', precision_result)\n",
    "print('COVID image detection F1 score:', 2 * (precision_result * recall_result) / (precision_result + recall_result))"
   ]
  },
  {
   "cell_type": "code",
   "execution_count": 17,
   "metadata": {},
   "outputs": [],
   "source": [
    "base_model = tf.keras.applications.ResNet50V2(input_shape=(150, 150, 3), include_top=False, weights='imagenet')\n",
    "base_model.trainable = False\n"
   ]
  },
  {
   "cell_type": "code",
   "execution_count": 18,
   "metadata": {},
   "outputs": [],
   "source": [
    "adam = tf.keras.optimizers.Adam(learning_rate=0.0001)\n",
    "\n",
    "global_average_layer = tf.keras.layers.GlobalAveragePooling2D()\n",
    "dense_layer = tf.keras.layers.Dense(500, activation='relu')\n",
    "prediction_layer = tf.keras.layers.Dense(1, activation='sigmoid')\n",
    "model = tf.keras.Sequential([\n",
    "    base_model,\n",
    "    global_average_layer,\n",
    "    dense_layer,\n",
    "    prediction_layer\n",
    "])\n",
    "model.compile(optimizer=adam, loss='binary_crossentropy', metrics=['accuracy'])"
   ]
  },
  {
   "cell_type": "code",
   "execution_count": 19,
   "metadata": {},
   "outputs": [
    {
     "name": "stdout",
     "output_type": "stream",
     "text": [
      "Train on 559 samples\n",
      "Epoch 1/8\n",
      "559/559 [==============================] - 19s 34ms/sample - loss: 0.6717 - accuracy: 0.5635\n",
      "Epoch 2/8\n",
      "559/559 [==============================] - 17s 31ms/sample - loss: 0.5334 - accuracy: 0.7281\n",
      "Epoch 3/8\n",
      "559/559 [==============================] - 17s 31ms/sample - loss: 0.4463 - accuracy: 0.7979\n",
      "Epoch 4/8\n",
      "559/559 [==============================] - 17s 31ms/sample - loss: 0.4028 - accuracy: 0.8336\n",
      "Epoch 5/8\n",
      "559/559 [==============================] - 17s 31ms/sample - loss: 0.3628 - accuracy: 0.8676\n",
      "Epoch 6/8\n",
      "559/559 [==============================] - 17s 31ms/sample - loss: 0.3887 - accuracy: 0.8301\n",
      "Epoch 7/8\n",
      "559/559 [==============================] - 17s 31ms/sample - loss: 0.3105 - accuracy: 0.8962\n",
      "Epoch 8/8\n",
      "559/559 [==============================] - 18s 32ms/sample - loss: 0.2974 - accuracy: 0.9088\n",
      "COVID image detection accuracy: 0.4117647\n",
      "COVID image detection recall: 1.0\n",
      "COVID image detection precision: 0.4117647\n",
      "COVID image detection F1 score: 0.583333326296674\n"
     ]
    }
   ],
   "source": [
    "model.fit(X_train, y_train, batch_size=32, epochs=8, use_multiprocessing=1)\n",
    "ba = tf.keras.metrics.BinaryAccuracy()\n",
    "recall = tf.keras.metrics.Recall()\n",
    "precision = tf.keras.metrics.Precision()\n",
    "ba.update_state(y_test, model.predict(X_test))\n",
    "recall.update_state(y_test, [prediction[0] for prediction in model.predict(X_test)])\n",
    "precision.update_state(y_test, [prediction[0] for prediction in model.predict(X_test)])\n",
    "recall_result = recall.result().numpy()\n",
    "precision_result = precision.result().numpy()\n",
    "print('COVID image detection accuracy:', ba.result().numpy())\n",
    "print('COVID image detection recall:', recall_result)\n",
    "print('COVID image detection precision:', precision_result)\n",
    "print('COVID image detection F1 score:', 2 * (precision_result * recall_result) / (precision_result + recall_result))"
   ]
  },
  {
   "cell_type": "code",
   "execution_count": 20,
   "metadata": {},
   "outputs": [],
   "source": [
    "adam = tf.keras.optimizers.Adam(learning_rate=0.0001)\n",
    "\n",
    "base_model = tf.keras.applications.VGG16(input_shape=(150, 150, 3), include_top=False, weights='imagenet')\n",
    "base_model.trainable = False\n",
    "\n",
    "global_average_layer = tf.keras.layers.GlobalAveragePooling2D()\n",
    "dense_layer = tf.keras.layers.Dense(500, activation='relu')\n",
    "prediction_layer = tf.keras.layers.Dense(1, activation='sigmoid')\n",
    "model = tf.keras.Sequential([\n",
    "    base_model,\n",
    "    global_average_layer,\n",
    "    dense_layer,\n",
    "    prediction_layer\n",
    "])\n",
    "model.compile(optimizer=adam, loss='binary_crossentropy', metrics=['accuracy'])"
   ]
  },
  {
   "cell_type": "code",
   "execution_count": 21,
   "metadata": {},
   "outputs": [
    {
     "name": "stdout",
     "output_type": "stream",
     "text": [
      "Train on 559 samples\n",
      "Epoch 1/8\n",
      "559/559 [==============================] - 17s 30ms/sample - loss: 1.7712 - accuracy: 0.5098\n",
      "Epoch 2/8\n",
      "559/559 [==============================] - 17s 30ms/sample - loss: 0.9032 - accuracy: 0.6583\n",
      "Epoch 3/8\n",
      "559/559 [==============================] - 16s 29ms/sample - loss: 0.6131 - accuracy: 0.7424\n",
      "Epoch 4/8\n",
      "559/559 [==============================] - 16s 29ms/sample - loss: 0.4871 - accuracy: 0.7925\n",
      "Epoch 5/8\n",
      "559/559 [==============================] - 16s 29ms/sample - loss: 0.3864 - accuracy: 0.8318\n",
      "Epoch 6/8\n",
      "559/559 [==============================] - 16s 29ms/sample - loss: 0.3264 - accuracy: 0.8587\n",
      "Epoch 7/8\n",
      "559/559 [==============================] - 17s 30ms/sample - loss: 0.2706 - accuracy: 0.8909\n",
      "Epoch 8/8\n",
      "559/559 [==============================] - 17s 30ms/sample - loss: 0.2277 - accuracy: 0.9088\n",
      "COVID image detection accuracy: 0.7914438\n",
      "COVID image detection recall: 0.77922076\n",
      "COVID image detection precision: 0.73170733\n",
      "COVID image detection F1 score: 0.7547169200977326\n"
     ]
    }
   ],
   "source": [
    "model.fit(X_train, y_train, batch_size=32, epochs=8, use_multiprocessing=1)\n",
    "ba = tf.keras.metrics.BinaryAccuracy()\n",
    "recall = tf.keras.metrics.Recall()\n",
    "precision = tf.keras.metrics.Precision()\n",
    "ba.update_state(y_test, model.predict(X_test))\n",
    "recall.update_state(y_test, [prediction[0] for prediction in model.predict(X_test)])\n",
    "precision.update_state(y_test, [prediction[0] for prediction in model.predict(X_test)])\n",
    "recall_result = recall.result().numpy()\n",
    "precision_result = precision.result().numpy()\n",
    "print('COVID image detection accuracy:', ba.result().numpy())\n",
    "print('COVID image detection recall:', recall_result)\n",
    "print('COVID image detection precision:', precision_result)\n",
    "print('COVID image detection F1 score:', 2 * (precision_result * recall_result) / (precision_result + recall_result))"
   ]
  }
 ],
 "metadata": {
  "kernelspec": {
   "display_name": "Python 3.6.10 64-bit ('capstone': conda)",
   "language": "python",
   "name": "python361064bitcapstonecondaccd97f80eb1d4d9b9a9bc41a0404f1e3"
  },
  "language_info": {
   "codemirror_mode": {
    "name": "ipython",
    "version": 3
   },
   "file_extension": ".py",
   "mimetype": "text/x-python",
   "name": "python",
   "nbconvert_exporter": "python",
   "pygments_lexer": "ipython3",
   "version": "3.6.10"
  }
 },
 "nbformat": 4,
 "nbformat_minor": 4
}

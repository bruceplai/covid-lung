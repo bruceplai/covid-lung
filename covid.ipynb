{
 "cells": [
  {
   "cell_type": "code",
   "execution_count": 1,
   "metadata": {},
   "outputs": [],
   "source": [
    "import cv2\n",
    "import os\n",
    "import numpy as np\n",
    "import pandas as pd\n",
    "import matplotlib.pyplot as plt\n",
    "import tensorflow as tf\n",
    "\n",
    "from sklearn.model_selection import train_test_split\n",
    "from tensorflow.keras.preprocessing.image import load_img, img_to_array\n",
    "\n",
    "%matplotlib inline\n",
    "tf.config.set_visible_devices([], 'GPU')"
   ]
  },
  {
   "cell_type": "code",
   "execution_count": 2,
   "metadata": {},
   "outputs": [],
   "source": [
    "def load_images_from_folder(folder):\n",
    "    images = []\n",
    "    for filename in os.listdir(folder):\n",
    "        img = cv2.imread(os.path.join(folder,filename), cv2.IMREAD_GRAYSCALE)\n",
    "        if img is not None:\n",
    "            img = cv2.resize(img, (150, 150))\n",
    "            img_data = np.asarray(img)\n",
    "            images.append(img_data)\n",
    "    return images"
   ]
  },
  {
   "cell_type": "code",
   "execution_count": 3,
   "metadata": {},
   "outputs": [],
   "source": [
    "def load_images_from_folder_2(folder):\n",
    "    images = []\n",
    "    for filename in os.listdir(folder):\n",
    "        loaded_img = load_img(os.path.join(folder,filename), target_size=(150, 150))\n",
    "        numpy_img = img_to_array(loaded_img)\n",
    "        images.append(numpy_img)\n",
    "    return images"
   ]
  },
  {
   "cell_type": "code",
   "execution_count": 4,
   "metadata": {},
   "outputs": [],
   "source": [
    "control_images = load_images_from_folder_2('CT_NonCOVID')\n",
    "covid_images = load_images_from_folder_2('CT_COVID')\n",
    "all_images = control_images + covid_images\n",
    "all_images = np.array(all_images)\n",
    "# all_images = all_images.reshape((-1, 150, 150, 3))"
   ]
  },
  {
   "cell_type": "code",
   "execution_count": 5,
   "metadata": {},
   "outputs": [
    {
     "data": {
      "text/plain": [
       "(746, 150, 150, 3)"
      ]
     },
     "execution_count": 5,
     "metadata": {},
     "output_type": "execute_result"
    }
   ],
   "source": [
    "\n",
    "all_images.shape"
   ]
  },
  {
   "cell_type": "code",
   "execution_count": 6,
   "metadata": {},
   "outputs": [],
   "source": [
    "# for i in range(4):\n",
    "#     plt.subplot(2, 2, i + 1)\n",
    "#     plt.imshow(np.uint8(all_images[i]))\n",
    "# plt.show"
   ]
  },
  {
   "cell_type": "code",
   "execution_count": 7,
   "metadata": {},
   "outputs": [
    {
     "name": "stdout",
     "output_type": "stream",
     "text": [
      "746\n",
      "746\n"
     ]
    }
   ],
   "source": [
    "control_labels = [0] * len(control_images)\n",
    "covid_labels = [1] * len(covid_images)\n",
    "label_series = pd.Series(control_labels + covid_labels)\n",
    "print(len(all_images))\n",
    "print(len(label_series))"
   ]
  },
  {
   "cell_type": "code",
   "execution_count": 8,
   "metadata": {},
   "outputs": [],
   "source": [
    "X_train, X_test, y_train, y_test = train_test_split(all_images, label_series, test_size=0.25, random_state=42)"
   ]
  },
  {
   "cell_type": "code",
   "execution_count": 9,
   "metadata": {},
   "outputs": [
    {
     "name": "stdout",
     "output_type": "stream",
     "text": [
      "559\n",
      "559\n"
     ]
    }
   ],
   "source": [
    "print(len(X_train))\n",
    "print(len(y_train))"
   ]
  },
  {
   "cell_type": "code",
   "execution_count": 21,
   "metadata": {},
   "outputs": [],
   "source": [
    "adam = tf.keras.optimizers.Adam(learning_rate=0.0001)\n",
    "\n",
    "inp = tf.keras.layers.Input(shape=(150, 150, 3))\n",
    "x = tf.keras.layers.Conv2D(filters=32, kernel_size=(3, 3), activation='relu')(inp)\n",
    "x = tf.keras.layers.Conv2D(filters=32, kernel_size=(3, 3), activation='relu')(x)\n",
    "x = tf.keras.layers.Conv2D(filters=32, kernel_size=(3, 3), activation='relu')(x)\n",
    "x = tf.keras.layers.Conv2D(filters=32, kernel_size=(3, 3), activation='relu')(x)\n",
    "x = tf.keras.layers.MaxPool2D(pool_size=(2, 2))(x)\n",
    "\n",
    "x = tf.keras.layers.Conv2D(filters=64, kernel_size=(3, 3), activation='relu')(x)\n",
    "x = tf.keras.layers.Conv2D(filters=64, kernel_size=(3, 3), activation='relu')(x)\n",
    "x = tf.keras.layers.MaxPool2D(pool_size=(2, 2))(x)\n",
    "\n",
    "x = tf.keras.layers.Conv2D(filters=128, kernel_size=(3, 3), activation='relu')(x)\n",
    "x = tf.keras.layers.MaxPool2D(pool_size=(2, 2))(x)\n",
    "\n",
    "x = tf.keras.layers.Flatten()(x)\n",
    "x = tf.keras.layers.Dense(1024, activation='relu')(x)\n",
    "x = tf.keras.layers.Dropout(0.3)(x)\n",
    "x = tf.keras.layers.Dense(512, activation='relu')(x)\n",
    "x = tf.keras.layers.Dropout(0.3)(x)\n",
    "y = tf.keras.layers.Dense(1, activation='sigmoid')(x)\n",
    "\n",
    "model = tf.keras.Model(inp, y)\n",
    "model.compile(loss='binary_crossentropy', optimizer=adam, metrics=['accuracy'])\n"
   ]
  },
  {
   "cell_type": "code",
   "execution_count": 22,
   "metadata": {},
   "outputs": [
    {
     "name": "stdout",
     "output_type": "stream",
     "text": [
      "Train on 559 samples\n",
      "Epoch 1/8\n",
      "559/559 [==============================] - 19s 33ms/sample - loss: 5.6254 - accuracy: 0.5009\n",
      "Epoch 2/8\n",
      "559/559 [==============================] - 18s 33ms/sample - loss: 1.2726 - accuracy: 0.5259\n",
      "Epoch 3/8\n",
      "559/559 [==============================] - 18s 32ms/sample - loss: 0.8688 - accuracy: 0.5259\n",
      "Epoch 4/8\n",
      "559/559 [==============================] - 18s 33ms/sample - loss: 0.7043 - accuracy: 0.5725\n",
      "Epoch 5/8\n",
      "559/559 [==============================] - 18s 33ms/sample - loss: 0.6645 - accuracy: 0.5921\n",
      "Epoch 6/8\n",
      "559/559 [==============================] - 18s 33ms/sample - loss: 0.6223 - accuracy: 0.6404\n",
      "Epoch 7/8\n",
      "559/559 [==============================] - 18s 33ms/sample - loss: 0.5647 - accuracy: 0.7174\n",
      "Epoch 8/8\n",
      "559/559 [==============================] - 18s 33ms/sample - loss: 0.5115 - accuracy: 0.7639\n",
      "COVID image detection accuracy: 0.7379679\n"
     ]
    }
   ],
   "source": [
    "model.fit(X_train, y_train, batch_size=64, epochs=8, use_multiprocessing=1)\n",
    "ba = tf.keras.metrics.BinaryAccuracy()\n",
    "ba.update_state(y_test, model.predict(X_test))\n",
    "print('COVID image detection accuracy:', ba.result().numpy())"
   ]
  },
  {
   "cell_type": "code",
   "execution_count": 19,
   "metadata": {},
   "outputs": [],
   "source": [
    "adam = tf.keras.optimizers.Adam(learning_rate=0.0001)\n",
    "\n",
    "inp = tf.keras.layers.Input(shape=(150, 150, 3))\n",
    "x = tf.keras.layers.Conv2D(filters=32, kernel_size=(3, 3), activation='relu')(inp)\n",
    "x = tf.keras.layers.MaxPool2D(pool_size=(2, 2))(x)\n",
    "x = tf.keras.layers.Conv2D(filters=64, kernel_size=(3, 3), activation='relu')(x)\n",
    "x = tf.keras.layers.MaxPool2D(pool_size=(2, 2))(x)\n",
    "x = tf.keras.layers.Conv2D(filters=128, kernel_size=(3, 3), activation='relu')(x)\n",
    "x = tf.keras.layers.MaxPool2D(pool_size=(2, 2))(x)\n",
    "\n",
    "x = tf.keras.layers.Flatten()(x)\n",
    "x = tf.keras.layers.Dense(1024, activation='relu')(x)\n",
    "x = tf.keras.layers.Dropout(0.3)(x)\n",
    "x = tf.keras.layers.Dense(512, activation='relu')(x)\n",
    "x = tf.keras.layers.Dropout(0.3)(x)\n",
    "y = tf.keras.layers.Dense(1, activation='sigmoid')(x)\n",
    "\n",
    "model = tf.keras.Model(inp, y)\n",
    "model.compile(loss='binary_crossentropy', optimizer=adam, metrics=['accuracy'])"
   ]
  },
  {
   "cell_type": "code",
   "execution_count": 20,
   "metadata": {},
   "outputs": [
    {
     "name": "stdout",
     "output_type": "stream",
     "text": [
      "Train on 559 samples\n",
      "Epoch 1/10\n",
      "559/559 [==============================] - 5s 9ms/sample - loss: 30.7389 - accuracy: 0.5224\n",
      "Epoch 2/10\n",
      "559/559 [==============================] - 5s 9ms/sample - loss: 11.8919 - accuracy: 0.5259\n",
      "Epoch 3/10\n",
      "559/559 [==============================] - 5s 9ms/sample - loss: 4.8924 - accuracy: 0.5975\n",
      "Epoch 4/10\n",
      "559/559 [==============================] - 5s 9ms/sample - loss: 3.0190 - accuracy: 0.5957\n",
      "Epoch 5/10\n",
      "559/559 [==============================] - 5s 9ms/sample - loss: 1.5044 - accuracy: 0.6458\n",
      "Epoch 6/10\n",
      "559/559 [==============================] - 5s 9ms/sample - loss: 0.7812 - accuracy: 0.7084\n",
      "Epoch 7/10\n",
      "559/559 [==============================] - 5s 9ms/sample - loss: 0.4484 - accuracy: 0.8122\n",
      "Epoch 8/10\n",
      "559/559 [==============================] - 5s 9ms/sample - loss: 0.3386 - accuracy: 0.8444\n",
      "Epoch 9/10\n",
      "559/559 [==============================] - 5s 9ms/sample - loss: 0.2396 - accuracy: 0.8927\n",
      "Epoch 10/10\n",
      "559/559 [==============================] - 5s 9ms/sample - loss: 0.1536 - accuracy: 0.9571\n",
      "COVID image detection accuracy: 0.78074867\n"
     ]
    }
   ],
   "source": [
    "model.fit(X_train, y_train, batch_size=64, epochs=10, use_multiprocessing=1)\n",
    "ba = tf.keras.metrics.BinaryAccuracy()\n",
    "ba.update_state(y_test, model.predict(X_test))\n",
    "print('COVID image detection accuracy:', ba.result().numpy())"
   ]
  },
  {
   "cell_type": "code",
   "execution_count": 14,
   "metadata": {},
   "outputs": [],
   "source": [
    "model_url = 'https://tfhub.dev/deepmind/ganeval-cifar10-convnet/1'\n"
   ]
  },
  {
   "cell_type": "code",
   "execution_count": null,
   "metadata": {},
   "outputs": [],
   "source": []
  }
 ],
 "metadata": {
  "kernelspec": {
   "display_name": "Python 3.6.10 64-bit ('capstone': conda)",
   "language": "python",
   "name": "python361064bitcapstonecondaccd97f80eb1d4d9b9a9bc41a0404f1e3"
  },
  "language_info": {
   "codemirror_mode": {
    "name": "ipython",
    "version": 3
   },
   "file_extension": ".py",
   "mimetype": "text/x-python",
   "name": "python",
   "nbconvert_exporter": "python",
   "pygments_lexer": "ipython3",
   "version": "3.6.10"
  }
 },
 "nbformat": 4,
 "nbformat_minor": 4
}

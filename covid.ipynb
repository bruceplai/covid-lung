{
 "cells": [
  {
   "cell_type": "code",
   "execution_count": 1,
   "metadata": {},
   "outputs": [],
   "source": [
    "import cv2\n",
    "import os\n",
    "import numpy as np\n",
    "import pandas as pd\n",
    "import matplotlib.pyplot as plt\n",
    "import tensorflow as tf\n",
    "\n",
    "from sklearn.model_selection import train_test_split\n",
    "from tensorflow.keras.preprocessing.image import load_img, img_to_array\n",
    "\n",
    "%matplotlib inline\n",
    "tf.config.set_visible_devices([], 'GPU')"
   ]
  },
  {
   "cell_type": "code",
   "execution_count": 2,
   "metadata": {},
   "outputs": [],
   "source": [
    "def load_images_from_folder(folder):\n",
    "    images = []\n",
    "    for filename in os.listdir(folder, image_size=(150, 150)):\n",
    "        img = cv2.imread(os.path.join(folder,filename), cv2.IMREAD_GRAYSCALE)\n",
    "        if img is not None:\n",
    "            img = cv2.resize(img, image_size)\n",
    "            img_data = np.asarray(img)\n",
    "            images.append(img_data)\n",
    "    return images"
   ]
  },
  {
   "cell_type": "code",
   "execution_count": 3,
   "metadata": {},
   "outputs": [],
   "source": [
    "def load_images_from_folder_2(folder, image_size=(150, 150)):\n",
    "    images = []\n",
    "    for filename in os.listdir(folder):\n",
    "        loaded_img = load_img(os.path.join(folder,filename), target_size=image_size)\n",
    "        numpy_img = img_to_array(loaded_img)\n",
    "        images.append(numpy_img)\n",
    "    return images"
   ]
  },
  {
   "cell_type": "code",
   "execution_count": 4,
   "metadata": {},
   "outputs": [],
   "source": [
    "# input_image_dim = (150, 150, 3)\n",
    "# img_size = (150, 150)\n",
    "# covid_folder = 'CT_NonCOVID'\n",
    "# non_covid_folder = 'CT_COVID'\n",
    "\n",
    "input_image_dim = (250, 250, 3)\n",
    "img_size = (250, 250)\n",
    "covid_folder = 'CT_NonCOVID_large'\n",
    "non_covid_folder = 'CT_COVID_large'"
   ]
  },
  {
   "cell_type": "code",
   "execution_count": 5,
   "metadata": {},
   "outputs": [],
   "source": [
    "control_images = load_images_from_folder_2(covid_folder, image_size=img_size)\n",
    "covid_images = load_images_from_folder_2(non_covid_folder, image_size=img_size)\n",
    "all_images = control_images + covid_images\n",
    "all_images = np.array(all_images)\n",
    "# all_images = all_images.reshape((-1, 150, 150, 3))"
   ]
  },
  {
   "cell_type": "code",
   "execution_count": 6,
   "metadata": {},
   "outputs": [
    {
     "data": {
      "text/plain": [
       "(591, 250, 250, 3)"
      ]
     },
     "execution_count": 6,
     "metadata": {},
     "output_type": "execute_result"
    }
   ],
   "source": [
    "\n",
    "all_images.shape"
   ]
  },
  {
   "cell_type": "code",
   "execution_count": 7,
   "metadata": {},
   "outputs": [],
   "source": [
    "# for i in range(4):\n",
    "#     plt.subplot(2, 2, i + 1)\n",
    "#     plt.imshow(np.uint8(all_images[i]))\n",
    "# plt.show"
   ]
  },
  {
   "cell_type": "code",
   "execution_count": 8,
   "metadata": {},
   "outputs": [
    {
     "name": "stdout",
     "output_type": "stream",
     "text": [
      "591\n",
      "591\n"
     ]
    }
   ],
   "source": [
    "control_labels = [0] * len(control_images)\n",
    "covid_labels = [1] * len(covid_images)\n",
    "label_series = pd.Series(control_labels + covid_labels)\n",
    "print(len(all_images))\n",
    "print(len(label_series))"
   ]
  },
  {
   "cell_type": "code",
   "execution_count": 9,
   "metadata": {},
   "outputs": [],
   "source": [
    "X_train, X_test, y_train, y_test = train_test_split(all_images, label_series, test_size=0.25, random_state=42)"
   ]
  },
  {
   "cell_type": "code",
   "execution_count": 10,
   "metadata": {},
   "outputs": [
    {
     "name": "stdout",
     "output_type": "stream",
     "text": [
      "443\n",
      "443\n"
     ]
    }
   ],
   "source": [
    "print(len(X_train))\n",
    "print(len(y_train))"
   ]
  },
  {
   "cell_type": "code",
   "execution_count": 11,
   "metadata": {},
   "outputs": [],
   "source": [
    "adam = tf.keras.optimizers.Adam(learning_rate=0.0001)\n",
    "\n",
    "inp = tf.keras.layers.Input(shape=input_image_dim)\n",
    "x = tf.keras.layers.Conv2D(filters=32, kernel_size=(3, 3), activation='relu')(inp)\n",
    "x = tf.keras.layers.MaxPool2D(pool_size=(2, 2))(x)\n",
    "x = tf.keras.layers.Conv2D(filters=64, kernel_size=(3, 3), activation='relu')(x)\n",
    "x = tf.keras.layers.MaxPool2D(pool_size=(2, 2))(x)\n",
    "x = tf.keras.layers.Conv2D(filters=128, kernel_size=(3, 3), activation='relu')(x)\n",
    "x = tf.keras.layers.MaxPool2D(pool_size=(2, 2))(x)\n",
    "\n",
    "x = tf.keras.layers.Flatten()(x)\n",
    "x = tf.keras.layers.Dense(1024, activation='relu')(x)\n",
    "x = tf.keras.layers.Dropout(0.3)(x)\n",
    "x = tf.keras.layers.Dense(512, activation='relu')(x)\n",
    "x = tf.keras.layers.Dropout(0.3)(x)\n",
    "y = tf.keras.layers.Dense(1, activation='sigmoid')(x)\n",
    "\n",
    "model = tf.keras.Model(inp, y)\n",
    "model.compile(loss='binary_crossentropy', optimizer=adam, metrics=['accuracy'])"
   ]
  },
  {
   "cell_type": "code",
   "execution_count": 12,
   "metadata": {},
   "outputs": [
    {
     "name": "stdout",
     "output_type": "stream",
     "text": [
      "Train on 443 samples\n",
      "Epoch 1/7\n",
      "443/443 [==============================] - 117s 265ms/sample - loss: 10.7547 - accuracy: 0.6411\n",
      "Epoch 2/7\n",
      "443/443 [==============================] - 116s 261ms/sample - loss: 0.5156 - accuracy: 0.8307\n",
      "Epoch 3/7\n",
      "443/443 [==============================] - 113s 255ms/sample - loss: 0.4008 - accuracy: 0.9052\n",
      "Epoch 4/7\n",
      "443/443 [==============================] - 117s 264ms/sample - loss: 0.5181 - accuracy: 0.8781\n",
      "Epoch 5/7\n",
      "443/443 [==============================] - 117s 265ms/sample - loss: 0.2086 - accuracy: 0.9300\n",
      "Epoch 6/7\n",
      "443/443 [==============================] - 119s 268ms/sample - loss: 0.1427 - accuracy: 0.9526\n",
      "Epoch 7/7\n",
      "443/443 [==============================] - 117s 263ms/sample - loss: 0.4042 - accuracy: 0.8962\n",
      "Simple network 1 - accuracy: 0.7162162\n",
      "Simple network 1 - recall: 0.44642857\n",
      "Simple network 1 - precision: 0.6944444\n",
      "Simple network 1 - F1 score: 0.54347825405503\n"
     ]
    }
   ],
   "source": [
    "model.fit(X_train, y_train, batch_size=1, epochs=7, use_multiprocessing=1)\n",
    "ba = tf.keras.metrics.BinaryAccuracy()\n",
    "recall = tf.keras.metrics.Recall()\n",
    "precision = tf.keras.metrics.Precision()\n",
    "ba.update_state(y_test, model.predict(X_test))\n",
    "recall.update_state(y_test, [prediction[0] for prediction in model.predict(X_test)])\n",
    "precision.update_state(y_test, [prediction[0] for prediction in model.predict(X_test)])\n",
    "recall_result = recall.result().numpy()\n",
    "precision_result = precision.result().numpy()\n",
    "\n",
    "network_type = 'Simple network 1'\n",
    "print(network_type, '-', 'accuracy:', ba.result().numpy())\n",
    "print(network_type, '-', 'recall:', recall_result)\n",
    "print(network_type, '-', 'precision:', precision_result)\n",
    "print(network_type, '-', 'F1 score:', 2 * (precision_result * recall_result) / (precision_result + recall_result))"
   ]
  },
  {
   "cell_type": "code",
   "execution_count": 13,
   "metadata": {},
   "outputs": [],
   "source": [
    "adam = tf.keras.optimizers.Adam(learning_rate=0.0001)\n",
    "\n",
    "inp = tf.keras.layers.Input(shape=input_image_dim)\n",
    "x = tf.keras.layers.Conv2D(filters=32, kernel_size=(3, 3), activation='relu')(inp)\n",
    "x = tf.keras.layers.Conv2D(filters=32, kernel_size=(3, 3), activation='relu')(x)\n",
    "x = tf.keras.layers.Conv2D(filters=32, kernel_size=(3, 3), activation='relu')(x)\n",
    "x = tf.keras.layers.Conv2D(filters=32, kernel_size=(3, 3), activation='relu')(x)\n",
    "x = tf.keras.layers.MaxPool2D(pool_size=(2, 2))(x)\n",
    "\n",
    "x = tf.keras.layers.Conv2D(filters=64, kernel_size=(3, 3), activation='relu')(x)\n",
    "x = tf.keras.layers.Conv2D(filters=64, kernel_size=(3, 3), activation='relu')(x)\n",
    "x = tf.keras.layers.MaxPool2D(pool_size=(2, 2))(x)\n",
    "\n",
    "x = tf.keras.layers.Conv2D(filters=128, kernel_size=(3, 3), activation='relu')(x)\n",
    "x = tf.keras.layers.MaxPool2D(pool_size=(2, 2))(x)\n",
    "\n",
    "x = tf.keras.layers.Flatten()(x)\n",
    "x = tf.keras.layers.Dense(1024, activation='relu')(x)\n",
    "x = tf.keras.layers.Dropout(0.3)(x)\n",
    "x = tf.keras.layers.Dense(512, activation='relu')(x)\n",
    "x = tf.keras.layers.Dropout(0.3)(x)\n",
    "y = tf.keras.layers.Dense(1, activation='sigmoid')(x)\n",
    "\n",
    "model = tf.keras.Model(inp, y)\n",
    "model.compile(loss='binary_crossentropy', optimizer=adam, metrics=['accuracy'])"
   ]
  },
  {
   "cell_type": "code",
   "execution_count": 14,
   "metadata": {},
   "outputs": [
    {
     "name": "stdout",
     "output_type": "stream",
     "text": [
      "Train on 443 samples\n",
      "Epoch 1/7\n",
      "443/443 [==============================] - 147s 331ms/sample - loss: 1.4875 - accuracy: 0.6208\n",
      "Epoch 2/7\n",
      "443/443 [==============================] - 147s 332ms/sample - loss: 0.5341 - accuracy: 0.7336\n",
      "Epoch 3/7\n",
      "443/443 [==============================] - 147s 331ms/sample - loss: 0.4067 - accuracy: 0.8036\n",
      "Epoch 4/7\n",
      "443/443 [==============================] - 147s 332ms/sample - loss: 0.5162 - accuracy: 0.8036\n",
      "Epoch 5/7\n",
      "443/443 [==============================] - 147s 331ms/sample - loss: 0.4209 - accuracy: 0.8284\n",
      "Epoch 6/7\n",
      "443/443 [==============================] - 147s 331ms/sample - loss: 0.3508 - accuracy: 0.8600\n",
      "Epoch 7/7\n",
      "443/443 [==============================] - 146s 330ms/sample - loss: 0.2384 - accuracy: 0.9120\n",
      "Simple network 2 - accuracy: 0.6959459\n",
      "Simple network 2 - recall: 0.5714286\n",
      "Simple network 2 - precision: 0.6037736\n",
      "Simple network 2 - F1 score: 0.587156013556076\n"
     ]
    }
   ],
   "source": [
    "model.fit(X_train, y_train, batch_size=1, epochs=7, use_multiprocessing=1)\n",
    "ba = tf.keras.metrics.BinaryAccuracy()\n",
    "recall = tf.keras.metrics.Recall()\n",
    "precision = tf.keras.metrics.Precision()\n",
    "ba.update_state(y_test, model.predict(X_test))\n",
    "recall.update_state(y_test, [prediction[0] for prediction in model.predict(X_test)])\n",
    "precision.update_state(y_test, [prediction[0] for prediction in model.predict(X_test)])\n",
    "recall_result = recall.result().numpy()\n",
    "precision_result = precision.result().numpy()\n",
    "\n",
    "network_type = 'Simple network 2'\n",
    "print(network_type, '-', 'accuracy:', ba.result().numpy())\n",
    "print(network_type, '-', 'recall:', recall_result)\n",
    "print(network_type, '-', 'precision:', precision_result)\n",
    "print(network_type, '-', 'F1 score:', 2 * (precision_result * recall_result) / (precision_result + recall_result))"
   ]
  },
  {
   "cell_type": "code",
   "execution_count": 15,
   "metadata": {},
   "outputs": [
    {
     "name": "stderr",
     "output_type": "stream",
     "text": [
      "C:\\Users\\bruce\\miniconda3\\envs\\capstone\\lib\\site-packages\\keras_applications\\mobilenet_v2.py:294: UserWarning: `input_shape` is undefined or non-square, or `rows` is not in [96, 128, 160, 192, 224]. Weights for input shape (224, 224) will be loaded as the default.\n",
      "  warnings.warn('`input_shape` is undefined or non-square, '\n"
     ]
    }
   ],
   "source": [
    "adam = tf.keras.optimizers.Adam(learning_rate=0.00001)\n",
    "\n",
    "base_model = tf.keras.applications.MobileNetV2(input_shape=input_image_dim, include_top=False, weights='imagenet')\n",
    "base_model.trainable = True\n",
    "\n",
    "global_average_layer = tf.keras.layers.GlobalAveragePooling2D()\n",
    "dense_layer = tf.keras.layers.Dense(500, activation='relu')\n",
    "dropout_layer = tf.keras.layers.Dropout(0.3)\n",
    "prediction_layer = tf.keras.layers.Dense(1, activation='sigmoid')\n",
    "model = tf.keras.Sequential([\n",
    "    base_model,\n",
    "    global_average_layer,\n",
    "    dense_layer,\n",
    "    dropout_layer,\n",
    "    prediction_layer\n",
    "])\n",
    "model.compile(optimizer=adam, loss='binary_crossentropy', metrics=['accuracy'])"
   ]
  },
  {
   "cell_type": "code",
   "execution_count": 16,
   "metadata": {},
   "outputs": [
    {
     "name": "stdout",
     "output_type": "stream",
     "text": [
      "Train on 443 samples\n",
      "Epoch 1/5\n",
      "443/443 [==============================] - 49s 111ms/sample - loss: 0.7039 - accuracy: 0.5124\n",
      "Epoch 2/5\n",
      "443/443 [==============================] - 46s 105ms/sample - loss: 0.6001 - accuracy: 0.7269\n",
      "Epoch 3/5\n",
      "443/443 [==============================] - 46s 105ms/sample - loss: 0.5106 - accuracy: 0.8600\n",
      "Epoch 4/5\n",
      "443/443 [==============================] - 46s 105ms/sample - loss: 0.4178 - accuracy: 0.9345\n",
      "Epoch 5/5\n",
      "443/443 [==============================] - 46s 104ms/sample - loss: 0.3202 - accuracy: 0.9842\n",
      "Mobile Net V2 - accuracy: 0.5810811\n",
      "Mobile Net V2 - recall: 0.23214285\n",
      "Mobile Net V2 - precision: 0.40625\n",
      "Mobile Net V2 - F1 score: 0.2954545348446915\n"
     ]
    }
   ],
   "source": [
    "model.fit(X_train, y_train, batch_size=1, epochs=5, use_multiprocessing=1)\n",
    "ba = tf.keras.metrics.BinaryAccuracy()\n",
    "recall = tf.keras.metrics.Recall()\n",
    "precision = tf.keras.metrics.Precision()\n",
    "ba.update_state(y_test, model.predict(X_test))\n",
    "recall.update_state(y_test, [prediction[0] for prediction in model.predict(X_test)])\n",
    "precision.update_state(y_test, [prediction[0] for prediction in model.predict(X_test)])\n",
    "recall_result = recall.result().numpy()\n",
    "precision_result = precision.result().numpy()\n",
    "\n",
    "network_type = 'Mobile Net V2'\n",
    "print(network_type, '-', 'accuracy:', ba.result().numpy())\n",
    "print(network_type, '-', 'recall:', recall_result)\n",
    "print(network_type, '-', 'precision:', precision_result)\n",
    "print(network_type, '-', 'F1 score:', 2 * (precision_result * recall_result) / (precision_result + recall_result))"
   ]
  },
  {
   "cell_type": "code",
   "execution_count": 17,
   "metadata": {},
   "outputs": [],
   "source": [
    "adam = tf.keras.optimizers.Adam(learning_rate=0.00001)\n",
    "\n",
    "base_model = tf.keras.applications.ResNet50V2(input_shape=input_image_dim, include_top=False, weights='imagenet')\n",
    "base_model.trainable = True\n",
    "\n",
    "global_average_layer = tf.keras.layers.GlobalAveragePooling2D()\n",
    "dense_layer = tf.keras.layers.Dense(500, activation='relu')\n",
    "prediction_layer = tf.keras.layers.Dense(1, activation='sigmoid')\n",
    "model = tf.keras.Sequential([\n",
    "    base_model,\n",
    "    global_average_layer,\n",
    "    dense_layer,\n",
    "    prediction_layer\n",
    "])\n",
    "model.compile(optimizer=adam, loss='binary_crossentropy', metrics=['accuracy'])"
   ]
  },
  {
   "cell_type": "code",
   "execution_count": 18,
   "metadata": {},
   "outputs": [
    {
     "name": "stdout",
     "output_type": "stream",
     "text": [
      "Train on 443 samples\n",
      "Epoch 1/3\n",
      "443/443 [==============================] - 114s 256ms/sample - loss: 0.6748 - accuracy: 0.5711\n",
      "Epoch 2/3\n",
      "443/443 [==============================] - 112s 254ms/sample - loss: 0.3734 - accuracy: 0.9526\n",
      "Epoch 3/3\n",
      "443/443 [==============================] - 112s 252ms/sample - loss: 0.0953 - accuracy: 0.9977\n",
      "ResNet50 V2 - accuracy: 0.5\n",
      "ResNet50 V2 - recall: 0.5535714\n",
      "ResNet50 V2 - precision: 0.3875\n",
      "ResNet50 V2 - F1 score: 0.45588232313552635\n"
     ]
    }
   ],
   "source": [
    "model.fit(X_train, y_train, batch_size=1, epochs=3, use_multiprocessing=1)\n",
    "ba = tf.keras.metrics.BinaryAccuracy()\n",
    "recall = tf.keras.metrics.Recall()\n",
    "precision = tf.keras.metrics.Precision()\n",
    "ba.update_state(y_test, model.predict(X_test))\n",
    "recall.update_state(y_test, [prediction[0] for prediction in model.predict(X_test)])\n",
    "precision.update_state(y_test, [prediction[0] for prediction in model.predict(X_test)])\n",
    "recall_result = recall.result().numpy()\n",
    "precision_result = precision.result().numpy()\n",
    "\n",
    "network_type = 'ResNet50 V2'\n",
    "print(network_type, '-', 'accuracy:', ba.result().numpy())\n",
    "print(network_type, '-', 'recall:', recall_result)\n",
    "print(network_type, '-', 'precision:', precision_result)\n",
    "print(network_type, '-', 'F1 score:', 2 * (precision_result * recall_result) / (precision_result + recall_result))"
   ]
  },
  {
   "cell_type": "code",
   "execution_count": 23,
   "metadata": {},
   "outputs": [],
   "source": [
    "adam = tf.keras.optimizers.Adam(learning_rate=0.00002)\n",
    "\n",
    "base_model = tf.keras.applications.VGG16(input_shape=input_image_dim, include_top=False, weights='imagenet')\n",
    "base_model.trainable = True\n",
    "\n",
    "global_average_layer = tf.keras.layers.GlobalAveragePooling2D()\n",
    "dense_layer = tf.keras.layers.Dense(500, activation='relu')\n",
    "dropout_layer = tf.keras.layers.Dropout(0.3)\n",
    "prediction_layer = tf.keras.layers.Dense(1, activation='sigmoid')\n",
    "model = tf.keras.Sequential([\n",
    "    base_model,\n",
    "    global_average_layer,\n",
    "    dropout_layer,\n",
    "    dense_layer,\n",
    "    prediction_layer\n",
    "])\n",
    "model.compile(optimizer=adam, loss='binary_crossentropy', metrics=['accuracy'])"
   ]
  },
  {
   "cell_type": "code",
   "execution_count": 24,
   "metadata": {},
   "outputs": [
    {
     "name": "stdout",
     "output_type": "stream",
     "text": [
      "Train on 443 samples\n",
      "Epoch 1/12\n",
      "443/443 [==============================] - 162s 365ms/sample - loss: 0.7244 - accuracy: 0.6208\n",
      "Epoch 2/12\n",
      "443/443 [==============================] - 176s 397ms/sample - loss: 0.5682 - accuracy: 0.7223\n",
      "Epoch 3/12\n",
      "443/443 [==============================] - 176s 398ms/sample - loss: 0.5021 - accuracy: 0.7652\n",
      "Epoch 4/12\n",
      "443/443 [==============================] - 180s 406ms/sample - loss: 0.4335 - accuracy: 0.8059\n",
      "Epoch 5/12\n",
      "443/443 [==============================] - 179s 404ms/sample - loss: 0.4490 - accuracy: 0.8126\n",
      "Epoch 6/12\n",
      "443/443 [==============================] - 180s 407ms/sample - loss: 0.4028 - accuracy: 0.8352\n",
      "Epoch 7/12\n",
      "443/443 [==============================] - 171s 385ms/sample - loss: 0.2561 - accuracy: 0.8939\n",
      "Epoch 8/12\n",
      "443/443 [==============================] - 171s 385ms/sample - loss: 0.2055 - accuracy: 0.9165\n",
      "Epoch 9/12\n",
      "443/443 [==============================] - 178s 401ms/sample - loss: 0.3551 - accuracy: 0.8736\n",
      "Epoch 10/12\n",
      "443/443 [==============================] - 170s 385ms/sample - loss: 0.1878 - accuracy: 0.9165\n",
      "Epoch 11/12\n",
      "443/443 [==============================] - 171s 385ms/sample - loss: 0.1793 - accuracy: 0.9368\n",
      "Epoch 12/12\n",
      "443/443 [==============================] - 170s 384ms/sample - loss: 0.1718 - accuracy: 0.9323\n",
      "VGG16 - accuracy: 0.8378378\n",
      "VGG16 - recall: 0.875\n",
      "VGG16 - precision: 0.74242425\n",
      "VGG16 - F1 score: 0.8032787296050439\n"
     ]
    }
   ],
   "source": [
    "model.fit(X_train, y_train, batch_size=1, epochs=12, use_multiprocessing=1)\n",
    "ba = tf.keras.metrics.BinaryAccuracy()\n",
    "recall = tf.keras.metrics.Recall()\n",
    "precision = tf.keras.metrics.Precision()\n",
    "ba.update_state(y_test, model.predict(X_test))\n",
    "recall.update_state(y_test, [prediction[0] for prediction in model.predict(X_test)])\n",
    "precision.update_state(y_test, [prediction[0] for prediction in model.predict(X_test)])\n",
    "recall_result = recall.result().numpy()\n",
    "precision_result = precision.result().numpy()\n",
    "\n",
    "network_type = 'VGG16'\n",
    "print(network_type, '-', 'accuracy:', ba.result().numpy())\n",
    "print(network_type, '-', 'recall:', recall_result)\n",
    "print(network_type, '-', 'precision:', precision_result)\n",
    "print(network_type, '-', 'F1 score:', 2 * (precision_result * recall_result) / (precision_result + recall_result))"
   ]
  },
  {
   "cell_type": "code",
   "execution_count": 33,
   "metadata": {},
   "outputs": [],
   "source": [
    "adam = tf.keras.optimizers.Adam(learning_rate=0.00002)\n",
    "\n",
    "base_model = tf.keras.applications.VGG19(input_shape=input_image_dim, include_top=False, weights='imagenet')\n",
    "base_model.trainable = True\n",
    "\n",
    "global_average_layer = tf.keras.layers.GlobalAveragePooling2D()\n",
    "dense_layer = tf.keras.layers.Dense(500, activation='relu')\n",
    "dropout_layer = tf.keras.layers.Dropout(0.3)\n",
    "prediction_layer = tf.keras.layers.Dense(1, activation='sigmoid')\n",
    "model = tf.keras.Sequential([\n",
    "    base_model,\n",
    "    global_average_layer,\n",
    "    dense_layer,\n",
    "    dropout_layer,\n",
    "    prediction_layer\n",
    "])\n",
    "model.compile(optimizer=adam, loss='binary_crossentropy', metrics=['accuracy'])"
   ]
  },
  {
   "cell_type": "code",
   "execution_count": 34,
   "metadata": {},
   "outputs": [
    {
     "name": "stdout",
     "output_type": "stream",
     "text": [
      "Train on 443 samples\n",
      "Epoch 1/12\n",
      "443/443 [==============================] - 217s 489ms/sample - loss: 0.7511 - accuracy: 0.6072\n",
      "Epoch 2/12\n",
      "443/443 [==============================] - 222s 501ms/sample - loss: 0.5658 - accuracy: 0.7336\n",
      "Epoch 3/12\n",
      "443/443 [==============================] - 222s 501ms/sample - loss: 0.4333 - accuracy: 0.8149\n",
      "Epoch 4/12\n",
      "443/443 [==============================] - 222s 501ms/sample - loss: 0.4062 - accuracy: 0.8307\n",
      "Epoch 5/12\n",
      "443/443 [==============================] - 225s 508ms/sample - loss: 0.4442 - accuracy: 0.8081\n",
      "Epoch 6/12\n",
      "443/443 [==============================] - 216s 487ms/sample - loss: 0.3262 - accuracy: 0.8510\n",
      "Epoch 7/12\n",
      "443/443 [==============================] - 215s 484ms/sample - loss: 0.2427 - accuracy: 0.9029\n",
      "Epoch 8/12\n",
      "443/443 [==============================] - 214s 483ms/sample - loss: 0.2692 - accuracy: 0.8939\n",
      "Epoch 9/12\n",
      "443/443 [==============================] - 215s 485ms/sample - loss: 0.2491 - accuracy: 0.8962\n",
      "Epoch 10/12\n",
      "443/443 [==============================] - 215s 485ms/sample - loss: 0.2353 - accuracy: 0.9097\n",
      "Epoch 11/12\n",
      "443/443 [==============================] - 213s 482ms/sample - loss: 0.1855 - accuracy: 0.9413\n",
      "Epoch 12/12\n",
      "443/443 [==============================] - 213s 480ms/sample - loss: 0.1161 - accuracy: 0.9616\n",
      "VGG19 - accuracy: 0.8445946\n",
      "VGG19 - recall: 0.91071427\n",
      "VGG19 - precision: 0.73913044\n",
      "VGG19 - F1 score: 0.8160000433529144\n"
     ]
    }
   ],
   "source": [
    "model.fit(X_train, y_train, batch_size=1, epochs=12, use_multiprocessing=1)\n",
    "ba = tf.keras.metrics.BinaryAccuracy()\n",
    "recall = tf.keras.metrics.Recall()\n",
    "precision = tf.keras.metrics.Precision()\n",
    "ba.update_state(y_test, model.predict(X_test))\n",
    "recall.update_state(y_test, [prediction[0] for prediction in model.predict(X_test)])\n",
    "precision.update_state(y_test, [prediction[0] for prediction in model.predict(X_test)])\n",
    "recall_result = recall.result().numpy()\n",
    "precision_result = precision.result().numpy()\n",
    "\n",
    "network_type = 'VGG19'\n",
    "print(network_type, '-', 'accuracy:', ba.result().numpy())\n",
    "print(network_type, '-', 'recall:', recall_result)\n",
    "print(network_type, '-', 'precision:', precision_result)\n",
    "print(network_type, '-', 'F1 score:', 2 * (precision_result * recall_result) / (precision_result + recall_result))"
   ]
  },
  {
   "cell_type": "raw",
   "metadata": {},
   "source": [
    "use only higher res images, fiddle with epochs and LR, dropout layer?, look for med image specific networks?"
   ]
  }
 ],
 "metadata": {
  "kernelspec": {
   "display_name": "Python 3.6.10 64-bit ('capstone': conda)",
   "language": "python",
   "name": "python361064bitcapstonecondaccd97f80eb1d4d9b9a9bc41a0404f1e3"
  },
  "language_info": {
   "codemirror_mode": {
    "name": "ipython",
    "version": 3
   },
   "file_extension": ".py",
   "mimetype": "text/x-python",
   "name": "python",
   "nbconvert_exporter": "python",
   "pygments_lexer": "ipython3",
   "version": "3.6.10"
  }
 },
 "nbformat": 4,
 "nbformat_minor": 4
}
